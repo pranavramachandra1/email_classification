{
 "cells": [
  {
   "cell_type": "code",
   "execution_count": 1,
   "metadata": {
    "deletable": false,
    "editable": false
   },
   "outputs": [],
   "source": [
    "# Initialize Otter\n",
    "import otter\n",
    "grader = otter.Notebook(\"projB2.ipynb\")"
   ]
  },
  {
   "cell_type": "markdown",
   "metadata": {},
   "source": [
    "# Project B2: Spam/Ham Classification - Build Your Own Model\n",
    "\n",
    "## Feature Engineering, Classification, and Cross-Validation\n",
    "## Due Date: Thursday, November 30th, 11:59 PM PDT\n",
    "You must submit this assignment to Gradescope by the on-time deadline, Thursday, November 30th, 11:59 PM. \n",
    "Please read the syllabus for the grace period policy. \n",
    "No late submissions beyond the grace period will be accepted. While course staff is happy to help you if you encounter difficulties with submission, we may not be able to respond to last-minute requests for assistance (TAs need to sleep, after all!). \n",
    "**We strongly encourage you to plan to submit your work to Gradescope several hours before the stated deadline.** \n",
    "This way, you will have ample time to reach out to staff for submission support.\n",
    "\n",
    "### Collaboration Policy\n",
    "\n",
    "Data science is a collaborative activity. \n",
    "While you may talk with others about this project, we ask that you **write your solutions individually**. \n",
    "If you discuss the assignments with others, please **include their names** in the collaborators cell below."
   ]
  },
  {
   "cell_type": "markdown",
   "metadata": {},
   "source": [
    "**Collaborators**: *list collaborators here*"
   ]
  },
  {
   "cell_type": "markdown",
   "metadata": {
    "nbgrader": {
     "grade": false,
     "grade_id": "proj2",
     "locked": true,
     "schema_version": 2,
     "solution": false
    }
   },
   "source": [
    "## Introduction\n",
    "In this project, you will build and improve on the concepts and functions you implemented in Project B1 to create your own classifier to distinguish spam emails from ham (non-spam) emails. We will evaluate your work based on your model's accuracy and written responses in this notebook.\n",
    "\n",
    "After this assignment, you should feel comfortable with the following:\n",
    "\n",
    "- Using `sklearn` libraries to process data and fit classification models,\n",
    "- Validating the performance of your model and minimizing overfitting, and\n",
    "- Generating and analyzing ROC curves.\n",
    "\n",
    "## Content Warning\n",
    "This is a **real-world** dataset– the emails you are trying to classify are actual spam and legitimate emails. As a result, some of the spam emails may be in poor taste or be considered inappropriate. We think the benefit of working with realistic data outweighs these inappropriate emails and wanted to warn you at the beginning of the project so that you are made aware.\n",
    "\n",
    "If you feel uncomfortable with this topic, **please contact your GSI or the instructors, or reach out via the Fall 2023 [extenuating circumstances form](https://docs.google.com/forms/d/e/1FAIpQLSffIhNMwsxP9Pd5l_9dzx_V4VffsNIOOjOexLT9VgUtmzw4AA/viewform).**"
   ]
  },
  {
   "cell_type": "code",
   "execution_count": 2,
   "metadata": {},
   "outputs": [],
   "source": [
    "# Run this cell to suppress all FutureWarnings\n",
    "import warnings\n",
    "warnings.filterwarnings(\"ignore\", category=FutureWarning)"
   ]
  },
  {
   "cell_type": "markdown",
   "metadata": {},
   "source": [
    "## Grading\n",
    "Grading is broken down into autograded answers and free responses. \n",
    "\n",
    "For autograded answers, the results of your code are compared to provided and/or hidden tests.\n",
    "\n",
    "For free response questions, readers will evaluate how well you answered the question and/or fulfilled the requirements of the question.\n",
    "\n",
    "Question | Manual | Points\n",
    "----|----|----\n",
    "1 | Yes | 6\n",
    "2a | Yes | 4\n",
    "2b | Yes | 2\n",
    "3 | Yes | 3\n",
    "4a | No | 5\n",
    "4b | No | 10\n",
    "Total | 4 | 30"
   ]
  },
  {
   "cell_type": "code",
   "execution_count": 3,
   "metadata": {
    "ExecuteTime": {
     "end_time": "2019-04-03T20:17:41.341673Z",
     "start_time": "2019-04-03T20:17:41.330307Z"
    },
    "nbgrader": {
     "grade": false,
     "grade_id": "imports",
     "locked": true,
     "schema_version": 2,
     "solution": false
    }
   },
   "outputs": [],
   "source": [
    "import numpy as np\n",
    "import pandas as pd\n",
    "import sys\n",
    "\n",
    "import matplotlib.pyplot as plt\n",
    "%matplotlib inline\n",
    "\n",
    "import seaborn as sns\n",
    "sns.set(style = \"whitegrid\", \n",
    "        color_codes = True,\n",
    "        font_scale = 1.5)\n",
    "\n",
    "from datetime import datetime\n",
    "from IPython.display import display, HTML"
   ]
  },
  {
   "cell_type": "markdown",
   "metadata": {
    "nbgrader": {
     "grade": false,
     "grade_id": "p1",
     "locked": true,
     "schema_version": 2,
     "solution": false
    }
   },
   "source": [
    "<br/>\n",
    "<hr style=\"border: 5px solid #003262;\" />\n",
    "<hr style=\"border: 1px solid #fdb515;\" />\n",
    "\n",
    "# Setup and Recap\n",
    "\n",
    "Here, we will provide a summary of Project B1 to remind you of how we cleaned the data, explored it, and implemented methods helpful in building your own model."
   ]
  },
  {
   "cell_type": "markdown",
   "metadata": {
    "nbgrader": {
     "grade": false,
     "grade_id": "loading",
     "locked": true,
     "schema_version": 2,
     "solution": false
    }
   },
   "source": [
    "## Loading and Cleaning Data\n",
    "\n",
    "Remember that in email classification, our goal is to classify emails as spam or not spam (referred to as \"ham\") using features generated from the text in the email. \n",
    "\n",
    "The dataset consists of email messages and their labels (0 for ham, 1 for spam). Your labeled training dataset contains 8,348 labeled examples, and the unlabeled test set contains 1,000 unlabeled examples.\n",
    "\n",
    "Run the following cell to load the data into a `DataFrame`.\n",
    "\n",
    "The `train` `DataFrame` contains labeled data that you will use to train your model. It contains four columns:\n",
    "\n",
    "1. `id`: An identifier for the training example.\n",
    "1. `subject`: The subject of the email.\n",
    "1. `email`: The text of the email.\n",
    "1. `spam`: 1 if the email is spam, 0 if the email is ham (not spam).\n",
    "\n",
    "The `test` `DataFrame` contains 1,000 unlabeled emails. You will predict labels for these emails and submit your predictions to the autograder for evaluation."
   ]
  },
  {
   "cell_type": "code",
   "execution_count": 4,
   "metadata": {},
   "outputs": [],
   "source": [
    "import zipfile\n",
    "with zipfile.ZipFile('spam_ham_data.zip') as item:\n",
    "    item.extractall()"
   ]
  },
  {
   "cell_type": "code",
   "execution_count": 5,
   "metadata": {},
   "outputs": [
    {
     "data": {
      "text/html": [
       "<div>\n",
       "<style scoped>\n",
       "    .dataframe tbody tr th:only-of-type {\n",
       "        vertical-align: middle;\n",
       "    }\n",
       "\n",
       "    .dataframe tbody tr th {\n",
       "        vertical-align: top;\n",
       "    }\n",
       "\n",
       "    .dataframe thead th {\n",
       "        text-align: right;\n",
       "    }\n",
       "</style>\n",
       "<table border=\"1\" class=\"dataframe\">\n",
       "  <thead>\n",
       "    <tr style=\"text-align: right;\">\n",
       "      <th></th>\n",
       "      <th>id</th>\n",
       "      <th>subject</th>\n",
       "      <th>email</th>\n",
       "      <th>spam</th>\n",
       "    </tr>\n",
       "  </thead>\n",
       "  <tbody>\n",
       "    <tr>\n",
       "      <th>0</th>\n",
       "      <td>0</td>\n",
       "      <td>Subject: A&amp;L Daily to be auctioned in bankrupt...</td>\n",
       "      <td>url: http://boingboing.net/#85534171\\n date: n...</td>\n",
       "      <td>0</td>\n",
       "    </tr>\n",
       "    <tr>\n",
       "      <th>1</th>\n",
       "      <td>1</td>\n",
       "      <td>Subject: Wired: \"Stronger ties between ISPs an...</td>\n",
       "      <td>url: http://scriptingnews.userland.com/backiss...</td>\n",
       "      <td>0</td>\n",
       "    </tr>\n",
       "    <tr>\n",
       "      <th>2</th>\n",
       "      <td>2</td>\n",
       "      <td>Subject: It's just too small                  ...</td>\n",
       "      <td>&lt;html&gt;\\n &lt;head&gt;\\n &lt;/head&gt;\\n &lt;body&gt;\\n &lt;font siz...</td>\n",
       "      <td>1</td>\n",
       "    </tr>\n",
       "    <tr>\n",
       "      <th>3</th>\n",
       "      <td>3</td>\n",
       "      <td>Subject: liberal defnitions\\n</td>\n",
       "      <td>depends on how much over spending vs. how much...</td>\n",
       "      <td>0</td>\n",
       "    </tr>\n",
       "    <tr>\n",
       "      <th>4</th>\n",
       "      <td>4</td>\n",
       "      <td>Subject: RE: [ILUG] Newbie seeks advice - Suse...</td>\n",
       "      <td>hehe sorry but if you hit caps lock twice the ...</td>\n",
       "      <td>0</td>\n",
       "    </tr>\n",
       "  </tbody>\n",
       "</table>\n",
       "</div>"
      ],
      "text/plain": [
       "   id                                            subject  \\\n",
       "0   0  Subject: A&L Daily to be auctioned in bankrupt...   \n",
       "1   1  Subject: Wired: \"Stronger ties between ISPs an...   \n",
       "2   2  Subject: It's just too small                  ...   \n",
       "3   3                      Subject: liberal defnitions\\n   \n",
       "4   4  Subject: RE: [ILUG] Newbie seeks advice - Suse...   \n",
       "\n",
       "                                               email  spam  \n",
       "0  url: http://boingboing.net/#85534171\\n date: n...     0  \n",
       "1  url: http://scriptingnews.userland.com/backiss...     0  \n",
       "2  <html>\\n <head>\\n </head>\\n <body>\\n <font siz...     1  \n",
       "3  depends on how much over spending vs. how much...     0  \n",
       "4  hehe sorry but if you hit caps lock twice the ...     0  "
      ]
     },
     "execution_count": 5,
     "metadata": {},
     "output_type": "execute_result"
    }
   ],
   "source": [
    "original_training_data = pd.read_csv('train.csv')\n",
    "test = pd.read_csv('test.csv')\n",
    "\n",
    "# Convert the emails to lowercase as the first step of text processing.\n",
    "original_training_data['email'] = original_training_data['email'].str.lower()\n",
    "test['email'] = test['email'].str.lower()\n",
    "\n",
    "original_training_data.head()"
   ]
  },
  {
   "cell_type": "markdown",
   "metadata": {},
   "source": [
    "Feel free to explore the dataset above along with any specific spam and ham emails that interest you. Keep in mind that our data may contain missing values, which are handled in the following cell."
   ]
  },
  {
   "cell_type": "code",
   "execution_count": 6,
   "metadata": {
    "ExecuteTime": {
     "end_time": "2019-04-03T20:17:42.203231Z",
     "start_time": "2019-04-03T20:17:42.185104Z"
    },
    "nbgrader": {
     "grade": false,
     "grade_id": "cell-b1fb39d9b651ca1b",
     "locked": false,
     "schema_version": 2,
     "solution": true
    }
   },
   "outputs": [
    {
     "name": "stdout",
     "output_type": "stream",
     "text": [
      "Before imputation:\n",
      "id         0\n",
      "subject    6\n",
      "email      0\n",
      "spam       0\n",
      "dtype: int64\n",
      "------------\n",
      "After imputation:\n",
      "id         0\n",
      "subject    0\n",
      "email      0\n",
      "spam       0\n",
      "dtype: int64\n"
     ]
    }
   ],
   "source": [
    "# Fill any missing or NAN values.\n",
    "print('Before imputation:')\n",
    "print(original_training_data.isnull().sum())\n",
    "original_training_data = original_training_data.fillna('')\n",
    "print('------------')\n",
    "print('After imputation:')\n",
    "print(original_training_data.isnull().sum())"
   ]
  },
  {
   "cell_type": "markdown",
   "metadata": {},
   "source": [
    "## Training/Validation Split\n",
    "\n",
    "Recall that the training data we downloaded is all the data we have available for both training models and **validating** the models that we train. We, therefore, split the training data into separate training and validation datasets. You will need this **validation data** to assess the performance of your classifier once you are finished training. \n",
    "\n",
    "As in Project B1, we set the seed (`random_state`) to 42. **Do not modify this in the following questions, as our tests depend on this random seed.**"
   ]
  },
  {
   "cell_type": "code",
   "execution_count": 7,
   "metadata": {
    "ExecuteTime": {
     "end_time": "2019-04-03T20:17:42.317970Z",
     "start_time": "2019-04-03T20:17:42.294532Z"
    },
    "nbgrader": {
     "grade": false,
     "grade_id": "cell-873194ed3e686dfb",
     "locked": true,
     "schema_version": 2,
     "solution": false
    }
   },
   "outputs": [],
   "source": [
    "# This creates a 90/10 train-validation split on our labeled data.\n",
    "from sklearn.model_selection import train_test_split\n",
    "train, val = train_test_split(original_training_data, test_size = 0.1, random_state = 42)\n",
    "\n",
    "# We must do this in order to preserve the ordering of emails to labels for words_in_texts.\n",
    "train = train.reset_index(drop = True)"
   ]
  },
  {
   "cell_type": "markdown",
   "metadata": {
    "nbgrader": {
     "grade": false,
     "grade_id": "feat-eng",
     "locked": true,
     "schema_version": 2,
     "solution": false
    }
   },
   "source": [
    "## Feature Engineering\n",
    "\n",
    "We need a numeric feature matrix $\\mathbb{X}$ and a vector of corresponding binary labels $\\mathbb{Y}$ to train a logistic regression model. In Project B1, we implemented the function `words_in_texts`, which creates numeric features derived from the email text and uses those features for logistic regression. \n",
    "\n",
    "For this project, we have provided you with an implemented version of `words_in_texts`. Remember that the function outputs a 2-dimensional `NumPy` array containing one row for each email text. The row should contain a 0 or a 1 for each word in the list: 0 if the word doesn't appear in the text and 1 if the word does. \n",
    "\n",
    "Run the following cell to see how the function works on some text."
   ]
  },
  {
   "cell_type": "code",
   "execution_count": 8,
   "metadata": {},
   "outputs": [
    {
     "data": {
      "text/plain": [
       "array([[1, 0, 0],\n",
       "       [1, 0, 1]])"
      ]
     },
     "execution_count": 8,
     "metadata": {},
     "output_type": "execute_result"
    }
   ],
   "source": [
    "from projB2_utils import words_in_texts\n",
    "\n",
    "words_in_texts(['hello', 'bye', 'world'], pd.Series(['hello', 'hello worldhello']))"
   ]
  },
  {
   "cell_type": "markdown",
   "metadata": {
    "nbgrader": {
     "grade": false,
     "grade_id": "classification",
     "locked": true,
     "schema_version": 2,
     "solution": false
    }
   },
   "source": [
    "## EDA and Basic Classification\n",
    "\n",
    "In Project B1, we proceeded to visualize the frequency of different words for both spam and ham emails and used `words_in_texts(words, train['email'])` to directly to train a classifier. We also provided a simple set of 5 words that might be useful as features to distinguish spam/ham emails. \n",
    "\n",
    "We then built a model using the [`LogisticRegression`](http://scikit-learn.org/stable/modules/generated/sklearn.linear_model.LogisticRegression.html) classifier from `sklearn`.\n",
    "\n",
    "Run the following cell to see the performance of a simple model using these words and the `train` `DataFrame`."
   ]
  },
  {
   "cell_type": "code",
   "execution_count": 9,
   "metadata": {
    "ExecuteTime": {
     "end_time": "2019-04-03T20:17:43.726012Z",
     "start_time": "2019-04-03T20:17:43.498088Z"
    },
    "nbgrader": {
     "grade": false,
     "grade_id": "q4-answer",
     "locked": false,
     "schema_version": 2,
     "solution": true
    },
    "tags": [
     "student"
    ]
   },
   "outputs": [
    {
     "data": {
      "text/plain": [
       "(array([[0, 0, 0, 0, 0],\n",
       "        [0, 0, 0, 0, 0],\n",
       "        [0, 0, 0, 0, 0],\n",
       "        [0, 0, 0, 0, 0],\n",
       "        [0, 0, 0, 1, 0]]),\n",
       " array([0, 0, 0, 0, 0]))"
      ]
     },
     "execution_count": 9,
     "metadata": {},
     "output_type": "execute_result"
    }
   ],
   "source": [
    "some_words = ['drug', 'bank', 'prescription', 'memo', 'private']\n",
    "\n",
    "X_train = words_in_texts(some_words, train['email'])\n",
    "Y_train = np.array(train['spam'])\n",
    "\n",
    "X_train[:5], Y_train[:5]"
   ]
  },
  {
   "cell_type": "code",
   "execution_count": 10,
   "metadata": {
    "ExecuteTime": {
     "end_time": "2019-04-03T20:17:44.593918Z",
     "start_time": "2019-04-03T20:17:43.783872Z"
    },
    "nbgrader": {
     "grade": false,
     "grade_id": "q5-answer",
     "locked": false,
     "schema_version": 2,
     "solution": true
    },
    "tags": [
     "student"
    ]
   },
   "outputs": [
    {
     "name": "stdout",
     "output_type": "stream",
     "text": [
      "Training Accuracy:  0.7576201251164648\n"
     ]
    }
   ],
   "source": [
    "from sklearn.linear_model import LogisticRegression\n",
    "\n",
    "model = LogisticRegression()\n",
    "model.fit(X_train, Y_train)\n",
    "\n",
    "training_accuracy = model.score(X_train, Y_train)\n",
    "print(\"Training Accuracy: \", training_accuracy)"
   ]
  },
  {
   "cell_type": "markdown",
   "metadata": {},
   "source": [
    "## Evaluating Classifiers"
   ]
  },
  {
   "cell_type": "markdown",
   "metadata": {},
   "source": [
    "In our models, we are evaluating the accuracy of the training set, which may provide a misleading accuracy measure. In Project B1, we calculated various metrics to lead us to consider more ways of evaluating a classifier, in addition to overall accuracy. Below is a reference to those concepts.\n",
    "\n",
    "Presumably, our classifier will be used for **filtering**, i.e., preventing messages labeled `spam` from reaching someone's inbox. There are two kinds of errors we can make:\n",
    "- **False positive (FP)**: A ham email gets flagged as spam and filtered out of the inbox.\n",
    "- **False negative (FN)**: A spam email gets mislabeled as ham and ends up in the inbox.\n",
    "\n",
    "To be clear, we label spam emails as 1 and ham emails as 0. These definitions depend both on the true labels and the predicted labels. False positives and false negatives may be of differing importance, leading us to consider more ways of evaluating a classifier in addition to overall accuracy:\n",
    "\n",
    "**Precision**: Measures the proportion of emails flagged as spam that are actually spam. Mathematically, $\\frac{\\text{TP}}{\\text{TP} + \\text{FP}}$.\n",
    "\n",
    "**Recall**: Measures the proportion  of spam emails that were correctly flagged as spam. Mathematically, $\\frac{\\text{TP}}{\\text{TP} + \\text{FN}}$.\n",
    "\n",
    "**False positive rate**: Measures the proportion  of ham emails that were incorrectly flagged as spam. Mathematically, $\\frac{\\text{FP}}{\\text{FP} + \\text{TN}}$.\n",
    "\n",
    "The below graphic (modified slightly from [Wikipedia](https://en.wikipedia.org/wiki/Precision_and_recall)) may help you understand precision and recall visually:<br />\n",
    "<center>\n",
    "<img alt=\"precision_recall\" src=\"precision_recall.png\" width=\"600px;\" />\n",
    "</center>\n",
    "\n",
    "Note that a True Positive (TP) is a spam email that is classified as spam, and a True Negative (TN) is a ham email that is classified as ham."
   ]
  },
  {
   "cell_type": "markdown",
   "metadata": {
    "nbgrader": {
     "grade": false,
     "grade_id": "p2",
     "locked": true,
     "schema_version": 2,
     "solution": false
    }
   },
   "source": [
    "<br/>\n",
    "<hr style=\"border: 1px solid #fdb515;\" />\n",
    "\n",
    "# Moving Forward - Building Your Own Model\n",
    "\n",
    "With this in mind, it is now your task to make the spam filter more accurate. To get full credit on the accuracy part of this assignment, you must get at least **85%** accuracy on both the train and test set (see Q4 for the partial credit breakdown). To see your accuracy on the test set, you will use your classifier to predict every email in the `test` `DataFrame` and upload your predictions to Gradescope.\n",
    "\n",
    "**Gradescope limits to 3 submissions per day to meet the threshold**. You will be able to see your accuracy on the entire test set when submitting to Gradescope. In the case that you are approved for an extension, you are granted 3 more submissions for each day the deadline has been extended.\n",
    "\n",
    "Here are some ideas for improving your model:\n",
    "\n",
    "1. Finding better features based on the email text. Some example features are:\n",
    "    1. Number of characters in the subject/body\n",
    "    1. Number of words in the subject/body\n",
    "    1. Use of punctuation (e.g., how many '!'s were there?)\n",
    "    1. Number/percentage of capital letters \n",
    "    1. Whether the email is a reply to an earlier email or a forwarded email\n",
    "1. Finding better (and/or more) words to use as features. Which words are the best at distinguishing emails? This requires digging into the email text itself. \n",
    "1. Better data processing. For example, many emails contain HTML as well as text. You can consider extracting the text from the HTML to help you find better words. Or, you can match HTML tags themselves, or even some combination of the two.\n",
    "1. Model selection. You can adjust the parameters of your model (e.g. the penalty type, the regularization parameter, or any arguments in `LogisticRegression`) to achieve higher accuracy. Recall that you should use cross-validation to do feature and model selection properly! Otherwise, you will likely overfit to your training data.\n",
    "    1. We have imported `GridSearchCV` for you. You may use sklearn's `GridSearchCV` ([documentation](https://scikit-learn.org/stable/modules/generated/sklearn.model_selection.GridSearchCV.html)) class to perform cross-validation. You do not need to code your own cross-validation from scratch, though you are welcome to do so.\n",
    "\n",
    "Here's an example of how to use `GridSearchCV`. Suppose we wanted to experiment with 3 different solvers (numerical methods for optimizing the mode) models for a `LogisticRegression` model `lr_model`. \n",
    "1. We could define a dictionary specifying the hyperparameters and the specific values we want to try out like so: `parameters = {'solver':[{'lbfgs', 'liblinear', 'newton-cg', 'saga']}`.\n",
    "2. Running `grid = GridSearchCV(estimator=lr_model, param_grid=parameters)` would give us a model for each combination of hyperparameters we are testing - in this case, just 4 models.\n",
    "3. We fit each model to some training data `X_train` and `Y_train` using `grid_result = grid.fit(X_train, Y_train)`.\n",
    "4. Indexing into `grid_result.cv_results_` with a particular metric (in this case, `mean_test_score`), we get an array with the scores corresponding to each of the models. `grid_result.cv_results_['mean_test_score']`.\n",
    "Feel free to experiment with other hyperparameters and metrics as well, the documentation is your friend!     \n",
    "       \n",
    "You may use whatever method you prefer in order to create features, but **you may only use the packages we've imported for you in the cell below or earlier in this notebook**. In addition, **you are only allowed to train logistic regression models**. No decision trees, random forests, k-nearest-neighbors, neural nets, etc.\n",
    "\n",
    "We have not provided any code to do this, so feel free to create as many cells as you need in order to tackle this task. However, answering questions 1, 2, and 3 should help guide you.\n",
    "\n",
    "**Note:** You may want to use your **validation data** to evaluate your model and get a better sense of how it will perform on the test set. However, you may overfit your validation set if you try to optimize your validation accuracy too much. Alternatively, you can perform cross-validation on the entire training set."
   ]
  },
  {
   "cell_type": "code",
   "execution_count": 11,
   "metadata": {},
   "outputs": [],
   "source": [
    "# import libraries\n",
    "# you may use any of these to create your features\n",
    "from sklearn.preprocessing import OneHotEncoder\n",
    "from sklearn.linear_model import LogisticRegression\n",
    "from sklearn.metrics import accuracy_score, roc_curve\n",
    "from sklearn.model_selection import GridSearchCV\n",
    "import re\n",
    "from collections import Counter"
   ]
  },
  {
   "cell_type": "code",
   "execution_count": null,
   "metadata": {},
   "outputs": [],
   "source": []
  },
  {
   "cell_type": "markdown",
   "metadata": {
    "deletable": false,
    "editable": false
   },
   "source": [
    "<!-- BEGIN QUESTION -->\n",
    "\n",
    "<br>\n",
    "\n",
    "---\n",
    "\n",
    "## Question 1\n",
    "\n",
    "In the following cell, describe the process of improving your model. You should use at least 2-3 sentences each to address the following questions:\n",
    "\n",
    "1. How did you find better features for your model?\n",
    "2. What did you try that worked or didn't work?\n",
    "3. What was surprising in your search for good features?\n"
   ]
  },
  {
   "cell_type": "markdown",
   "metadata": {},
   "source": [
    "I found better features by using AB testing and testing to see if they were reduntant. I used features that I were useful and would highlight the extra junk that is included in spam emails.\n",
    "\n",
    "I tried using the length of emails to separate spam from ham emails, and counts of things. For example, counts of excalamtion points, punctuation, capital letters, and other things. Those features weren't the best at creating this spam-ham model.\n",
    "\n",
    "What I found works really well are ratios. I wrote some code that cleaned emails, and I used the ratio of counts found in the clean emails versus the uncleaned emails. This separated a lot of the noise, and really allowed the comparison of the content in spam emails to distinguish themselves from ham emails. This was surprising to me."
   ]
  },
  {
   "cell_type": "markdown",
   "metadata": {
    "deletable": false,
    "editable": false,
    "nbgrader": {
     "grade": false,
     "grade_id": "q8",
     "locked": true,
     "schema_version": 2,
     "solution": false
    }
   },
   "source": [
    "<!-- END QUESTION -->\n",
    "\n",
    "<br/>\n",
    "<hr style=\"border: 1px solid #fdb515;\" />\n",
    "\n",
    "# Exploratory Data Analysis\n",
    "\n",
    "In the cell below, show a visualization you used to select features for your model. \n",
    "\n",
    "Please include:\n",
    "\n",
    "1. A plot showing something meaningful about the data that helped you during feature selection, model selection, or both.\n",
    "2. Two or three sentences describing what you plotted and its implications with respect to your features.\n",
    "\n",
    "Feel free to create as many plots as you want in your feature selection process, but select only one for the response cell below.\n",
    "\n",
    "**You should not just produce an identical visualization to Question 3 in Project B1.** For this section, we’d like you to go beyond the analysis you performed in Project B1. Choose some plot other than the 1-dimensional distribution of some quantity for spam and ham emails. In particular, do not produce a bar plot of proportions like you created in Question 3 of Project B1. Any other plot is acceptable, **as long as it comes with thoughtful commentary.** Here are some ideas:\n",
    "\n",
    "1. Consider the correlation between multiple features (look up correlation plots and `sns.heatmap` ([documentation](https://seaborn.pydata.org/generated/seaborn.heatmap.html)). \n",
    "1. Try to show redundancy in a group of features (e.g., `body` and `html` might co-occur relatively frequently, or you might be able to design a feature that captures all HTML tags and compares them to these). \n",
    "1. Visualize which words have high or low values for helpful statistics.\n",
    "1. Visually depict whether spam emails tend to be wordier (in some sense) than ham emails."
   ]
  },
  {
   "cell_type": "markdown",
   "metadata": {
    "deletable": false,
    "editable": false
   },
   "source": [
    "<!-- BEGIN QUESTION -->\n",
    "\n",
    "<br>\n",
    "\n",
    "---\n",
    "\n",
    "## Question 2a\n",
    "\n",
    "Generate your visualization in the cell below.\n"
   ]
  },
  {
   "cell_type": "code",
   "execution_count": 12,
   "metadata": {},
   "outputs": [],
   "source": [
    "# Define your processing function, processed data, and model here. \n",
    "# You may find it helpful to look through the rest of the questions first!\n",
    "\n",
    "train = pd.read_csv('train.csv')\n",
    "\n",
    "# file_path = 'vader_lexicon.txt'\n",
    "\n",
    "# df = pd.read_csv(file_path, sep='\\t', header=None)\n",
    "# df.columns = ['symbol', 'score', 'score_sd', 'sample_scores']\n",
    "# df.head()\n",
    "\n",
    "# sentiment_dict = df.set_index('symbol')['score'].to_dict()"
   ]
  },
  {
   "cell_type": "code",
   "execution_count": 13,
   "metadata": {},
   "outputs": [],
   "source": [
    "## implemeting feature selection:\n",
    "\n",
    "def get_X(train):\n",
    "    # 1. Email Length:\n",
    "    train['length'] = train['email'].apply(lambda x: len(x))\n",
    "    \n",
    "    # 2. Word Selection:\n",
    "    words = ['Free', 'Ad', 'Offer', 'Credit', 'Save', 'Click here',\n",
    "       'Guaranteed', 'Money', 'Rates', 'Special', 'Refinance', 'Debt',\n",
    "       'Cash', 'Quote', 'Easy', 'Loans', 'Secret', 'Limited', 'Removal',\n",
    "       'Promotion']\n",
    "    indicator_data = []\n",
    "    \n",
    "    for word in words:\n",
    "        indicator_array = words_in_texts([word], train['email'])\n",
    "        indicator_data.append(indicator_array[:, 0])  # Convert to 1D and append\n",
    "    \n",
    "    # Create a DataFrame from the indicator data\n",
    "    indicator_df = pd.DataFrame(indicator_data).transpose()\n",
    "    indicator_df.columns = words\n",
    "    \n",
    "    # Concatenate the new DataFrame with the original one\n",
    "    train = pd.concat([train, indicator_df], axis=1)\n",
    "    \n",
    "    # 3. HTML Analysis:\n",
    "    html_stuff = train.email.str.extractall('<([^>]+)>').reset_index()\n",
    "    html_gb = html_stuff.groupby('level_0').agg('count')\n",
    "    \n",
    "    train['hmtl_counts'] = html_stuff.groupby('level_0').agg('count').iloc[:, 0]\n",
    "    train.fillna(0)\n",
    "    \n",
    "    # 4. Sentiment Analysis:\n",
    "    def strip_to_text(html_content):\n",
    "        # List of punctuation characters to remove\n",
    "        punctuation = '!\"#$%&\\'()*+,-./:;<=>?@[\\\\]^_`{|}~'\n",
    "    \n",
    "        # Using regular expressions to remove HTML tags and URLs\n",
    "        text = re.sub('<[^<]+?>', '', html_content)   # Remove HTML tags\n",
    "        text = re.sub(r'http\\S+', '', text)           # Remove URLs\n",
    "    \n",
    "        # Removing punctuation\n",
    "        text = text.translate(str.maketrans('', '', punctuation))\n",
    "    \n",
    "        # Removing tabs and newline characters\n",
    "        text = text.replace('\\t', '').replace('\\n', '')\n",
    "    \n",
    "        return text\n",
    "    \n",
    "    def apply_sentiment_score(text):\n",
    "        sentences = text.split('. ')\n",
    "        words_in_sentences = [sent.split() for sent in sentences]\n",
    "        scores = []\n",
    "        for sentence in words_in_sentences:\n",
    "            sentence_scores = []\n",
    "            for wrd in sentence:\n",
    "                try:\n",
    "                    sentence_scores.append(sentiment_dict[wrd])\n",
    "                except:\n",
    "                    sentence_scores.append(0)\n",
    "            if len(sentence_scores) == 0:\n",
    "                scores.append(0)\n",
    "            else:\n",
    "                scores.append(np.mean(sentence_scores))\n",
    "        if len(scores) == 0:\n",
    "            return 0\n",
    "        else:\n",
    "            return np.mean(scores)\n",
    "    \n",
    "    train['email_clean'] = train['email'].apply(strip_to_text)\n",
    "    # train['mean_sentiment'] = train['email_clean'].apply(apply_sentiment_score)\n",
    "\n",
    "\n",
    "    # 5. Punctuation Counter:\n",
    "    pattern = r'[!\"#$%&\\'()*+,-./:;<=>?@\\[\\\\\\]^_`{|}~]'\n",
    "    train['num_punc'] = train['email'].apply(lambda x: len(re.findall(pattern, x)))\n",
    "\n",
    "    # 6. Junk Char Ratio\n",
    "    def junk_char_ratio(row):\n",
    "        return len(row.email_clean)/len(row.email)\n",
    "    \n",
    "    train['junk_char_ratio'] = train.apply(lambda row: junk_char_ratio(row), axis = 1)\n",
    "    \n",
    "    train.fillna(0)\n",
    "\n",
    "    # 7. Number of Capital Letters:\n",
    "\n",
    "    def count_capitals(text):\n",
    "        count = 0\n",
    "        for char in text:\n",
    "            if char.isupper():\n",
    "                count += 1\n",
    "        return count\n",
    "\n",
    "    train['num_caps'] = train['email'].apply(count_capitals)\n",
    "\n",
    "    # 8. Detecting Replies\n",
    "    def detect_reply(text):\n",
    "        if 'wrote:\\n \\n' in text:\n",
    "            return 0\n",
    "        else:\n",
    "            return 1\n",
    "\n",
    "    train['is_reply'] = train.email.apply(detect_reply)\n",
    "\n",
    "    # 9. Numer of Capitalized Letters/Length of Email\n",
    "    def cap_ratio(text):\n",
    "        count = 0\n",
    "        for char in text:\n",
    "            if char.isupper() == True:\n",
    "                count += 1\n",
    "        return count/len(text)\n",
    "    \n",
    "    train['cap_ratio'] = train.email.apply(cap_ratio)\n",
    "    \n",
    "    # Y_train = train['spam']\n",
    "    # cols = words + ['mean_sentiment', 'num_punc', 'junk_char_ratio', 'num_caps', 'is_reply', 'cap_ratio']\n",
    "    cols = words + ['num_punc', 'junk_char_ratio', 'is_reply', 'cap_ratio']\n",
    "    X_train = train[cols].fillna(0)\n",
    "    return X_train"
   ]
  },
  {
   "cell_type": "code",
   "execution_count": 14,
   "metadata": {},
   "outputs": [],
   "source": [
    "X_train = get_X(train)\n",
    "Y_train = train['spam']"
   ]
  },
  {
   "cell_type": "code",
   "execution_count": 15,
   "metadata": {},
   "outputs": [
    {
     "data": {
      "text/plain": [
       "24"
      ]
     },
     "execution_count": 15,
     "metadata": {},
     "output_type": "execute_result"
    }
   ],
   "source": [
    "len(X_train.columns)"
   ]
  },
  {
   "cell_type": "code",
   "execution_count": 16,
   "metadata": {},
   "outputs": [
    {
     "data": {
      "text/html": [
       "<style>#sk-container-id-1 {color: black;background-color: white;}#sk-container-id-1 pre{padding: 0;}#sk-container-id-1 div.sk-toggleable {background-color: white;}#sk-container-id-1 label.sk-toggleable__label {cursor: pointer;display: block;width: 100%;margin-bottom: 0;padding: 0.3em;box-sizing: border-box;text-align: center;}#sk-container-id-1 label.sk-toggleable__label-arrow:before {content: \"▸\";float: left;margin-right: 0.25em;color: #696969;}#sk-container-id-1 label.sk-toggleable__label-arrow:hover:before {color: black;}#sk-container-id-1 div.sk-estimator:hover label.sk-toggleable__label-arrow:before {color: black;}#sk-container-id-1 div.sk-toggleable__content {max-height: 0;max-width: 0;overflow: hidden;text-align: left;background-color: #f0f8ff;}#sk-container-id-1 div.sk-toggleable__content pre {margin: 0.2em;color: black;border-radius: 0.25em;background-color: #f0f8ff;}#sk-container-id-1 input.sk-toggleable__control:checked~div.sk-toggleable__content {max-height: 200px;max-width: 100%;overflow: auto;}#sk-container-id-1 input.sk-toggleable__control:checked~label.sk-toggleable__label-arrow:before {content: \"▾\";}#sk-container-id-1 div.sk-estimator input.sk-toggleable__control:checked~label.sk-toggleable__label {background-color: #d4ebff;}#sk-container-id-1 div.sk-label input.sk-toggleable__control:checked~label.sk-toggleable__label {background-color: #d4ebff;}#sk-container-id-1 input.sk-hidden--visually {border: 0;clip: rect(1px 1px 1px 1px);clip: rect(1px, 1px, 1px, 1px);height: 1px;margin: -1px;overflow: hidden;padding: 0;position: absolute;width: 1px;}#sk-container-id-1 div.sk-estimator {font-family: monospace;background-color: #f0f8ff;border: 1px dotted black;border-radius: 0.25em;box-sizing: border-box;margin-bottom: 0.5em;}#sk-container-id-1 div.sk-estimator:hover {background-color: #d4ebff;}#sk-container-id-1 div.sk-parallel-item::after {content: \"\";width: 100%;border-bottom: 1px solid gray;flex-grow: 1;}#sk-container-id-1 div.sk-label:hover label.sk-toggleable__label {background-color: #d4ebff;}#sk-container-id-1 div.sk-serial::before {content: \"\";position: absolute;border-left: 1px solid gray;box-sizing: border-box;top: 0;bottom: 0;left: 50%;z-index: 0;}#sk-container-id-1 div.sk-serial {display: flex;flex-direction: column;align-items: center;background-color: white;padding-right: 0.2em;padding-left: 0.2em;position: relative;}#sk-container-id-1 div.sk-item {position: relative;z-index: 1;}#sk-container-id-1 div.sk-parallel {display: flex;align-items: stretch;justify-content: center;background-color: white;position: relative;}#sk-container-id-1 div.sk-item::before, #sk-container-id-1 div.sk-parallel-item::before {content: \"\";position: absolute;border-left: 1px solid gray;box-sizing: border-box;top: 0;bottom: 0;left: 50%;z-index: -1;}#sk-container-id-1 div.sk-parallel-item {display: flex;flex-direction: column;z-index: 1;position: relative;background-color: white;}#sk-container-id-1 div.sk-parallel-item:first-child::after {align-self: flex-end;width: 50%;}#sk-container-id-1 div.sk-parallel-item:last-child::after {align-self: flex-start;width: 50%;}#sk-container-id-1 div.sk-parallel-item:only-child::after {width: 0;}#sk-container-id-1 div.sk-dashed-wrapped {border: 1px dashed gray;margin: 0 0.4em 0.5em 0.4em;box-sizing: border-box;padding-bottom: 0.4em;background-color: white;}#sk-container-id-1 div.sk-label label {font-family: monospace;font-weight: bold;display: inline-block;line-height: 1.2em;}#sk-container-id-1 div.sk-label-container {text-align: center;}#sk-container-id-1 div.sk-container {/* jupyter's `normalize.less` sets `[hidden] { display: none; }` but bootstrap.min.css set `[hidden] { display: none !important; }` so we also need the `!important` here to be able to override the default hidden behavior on the sphinx rendered scikit-learn.org. See: https://github.com/scikit-learn/scikit-learn/issues/21755 */display: inline-block !important;position: relative;}#sk-container-id-1 div.sk-text-repr-fallback {display: none;}</style><div id=\"sk-container-id-1\" class=\"sk-top-container\"><div class=\"sk-text-repr-fallback\"><pre>LogisticRegression(max_iter=1000)</pre><b>In a Jupyter environment, please rerun this cell to show the HTML representation or trust the notebook. <br />On GitHub, the HTML representation is unable to render, please try loading this page with nbviewer.org.</b></div><div class=\"sk-container\" hidden><div class=\"sk-item\"><div class=\"sk-estimator sk-toggleable\"><input class=\"sk-toggleable__control sk-hidden--visually\" id=\"sk-estimator-id-1\" type=\"checkbox\" checked><label for=\"sk-estimator-id-1\" class=\"sk-toggleable__label sk-toggleable__label-arrow\">LogisticRegression</label><div class=\"sk-toggleable__content\"><pre>LogisticRegression(max_iter=1000)</pre></div></div></div></div></div>"
      ],
      "text/plain": [
       "LogisticRegression(max_iter=1000)"
      ]
     },
     "execution_count": 16,
     "metadata": {},
     "output_type": "execute_result"
    }
   ],
   "source": [
    "model = LogisticRegression(max_iter=1000)\n",
    "model.fit(X_train, Y_train)"
   ]
  },
  {
   "cell_type": "code",
   "execution_count": 17,
   "metadata": {},
   "outputs": [],
   "source": [
    "y_pred = model.predict(X_train)"
   ]
  },
  {
   "cell_type": "code",
   "execution_count": 18,
   "metadata": {},
   "outputs": [
    {
     "data": {
      "text/plain": [
       "0.860804983229516"
      ]
     },
     "execution_count": 18,
     "metadata": {},
     "output_type": "execute_result"
    }
   ],
   "source": [
    "np.mean(y_pred == Y_train)"
   ]
  },
  {
   "cell_type": "code",
   "execution_count": 19,
   "metadata": {},
   "outputs": [
    {
     "data": {
      "text/plain": [
       "Free               1.249652\n",
       "Ad                 1.236748\n",
       "Offer              1.161467\n",
       "Credit             1.114013\n",
       "Save               1.153130\n",
       "Click here         1.084374\n",
       "Guaranteed         1.082985\n",
       "Money              1.090048\n",
       "Rates              1.286453\n",
       "Special            1.253901\n",
       "Refinance          1.607395\n",
       "Debt               1.249209\n",
       "Cash               1.103276\n",
       "Quote              1.140543\n",
       "Easy               1.165459\n",
       "Loans              1.588769\n",
       "Secret             1.158504\n",
       "Limited            1.112322\n",
       "Removal            1.095155\n",
       "Promotion          1.104827\n",
       "num_punc           1.100907\n",
       "junk_char_ratio    1.215312\n",
       "is_reply           1.037932\n",
       "cap_ratio          1.040852\n",
       "dtype: float64"
      ]
     },
     "execution_count": 19,
     "metadata": {},
     "output_type": "execute_result"
    }
   ],
   "source": [
    "import statsmodels.api as sm\n",
    "from statsmodels.stats.outliers_influence import variance_inflation_factor\n",
    "\n",
    "def VIF(df, columns):\n",
    "    values = sm.add_constant(df[columns]).values\n",
    "    num_columns = len(columns)+1\n",
    "    vif = [variance_inflation_factor(values, i) for i in range(num_columns)]\n",
    "    return pd.Series(vif[1:], index=columns)\n",
    "\n",
    "VIF(X_train, X_train.columns)"
   ]
  },
  {
   "cell_type": "code",
   "execution_count": 20,
   "metadata": {},
   "outputs": [
    {
     "data": {
      "text/plain": [
       "<Axes: >"
      ]
     },
     "execution_count": 20,
     "metadata": {},
     "output_type": "execute_result"
    },
    {
     "data": {
      "image/png": "[encoded data removed]",
      "text/plain": [
       "<Figure size 640x480 with 2 Axes>"
      ]
     },
     "metadata": {},
     "output_type": "display_data"
    }
   ],
   "source": [
    "sns.heatmap(X_train[['num_punc', 'junk_char_ratio', 'is_reply', 'cap_ratio']].corr())"
   ]
  },
  {
   "cell_type": "code",
   "execution_count": 21,
   "metadata": {},
   "outputs": [],
   "source": [
    "train = pd.read_csv('train.csv')"
   ]
  },
  {
   "cell_type": "code",
   "execution_count": 22,
   "metadata": {},
   "outputs": [
    {
     "data": {
      "text/plain": [
       "'On Tue 30 Jul 2002 10:28, David Neary wrote:\\n \\n > I have 3 or 4 email addresses (which get used for different\\n > reasons), and I\\'d prefer not to mix them up. So I was wondering\\n > if anyone knows of a way that I can have mail (apart from list\\n > mail, which I have already sorted) which arrives to a certain\\n > e-mail address have the From: header in the reply automatically\\n > set to the address it came to.\\n \\n I don\\'t know Mutt, to be honest, but the KDE mail client \"KMail\" can\\n do this very neatly - you set up multiple \"Identity\" profiles, each\\n with a distinct email address (and other things if desired, like a GPG\\n key and a signature).  You can then set up KMail to use various\\n identities automatically when replying to messages which match a\\n particular pattern, or which are in a particular folder, etc.  It\\'s\\n all very cool, and it works very nicely.\\n \\n But I still don\\'t know how to do it in Mutt.\\n \\n              Colm\\n \\n -- \\n Colm Buckley | colm@tuatha.org | +353 87 2469146 | www.colm.buckley.name\\n A dirty mind is a terrible thing to waste.\\n \\n \\n -- \\n Irish Linux Users\\' Group: ilug@linux.ie\\n http://www.linux.ie/mailman/listinfo/ilug for (un)subscription information.\\n List maintainer: listmaster@linux.ie\\n \\n \\n'"
      ]
     },
     "execution_count": 22,
     "metadata": {},
     "output_type": "execute_result"
    }
   ],
   "source": [
    "train[train.spam == 0].email.values[165]"
   ]
  },
  {
   "cell_type": "code",
   "execution_count": null,
   "metadata": {},
   "outputs": [],
   "source": []
  },
  {
   "cell_type": "markdown",
   "metadata": {},
   "source": [
    "## Measuring the length of an email"
   ]
  },
  {
   "cell_type": "code",
   "execution_count": 23,
   "metadata": {},
   "outputs": [
    {
     "data": {
      "text/plain": [
       "<matplotlib.legend.Legend at 0x7f752f60d610>"
      ]
     },
     "execution_count": 23,
     "metadata": {},
     "output_type": "execute_result"
    },
    {
     "data": {
      "image/png": "[encoded data removed]",
      "text/plain": [
       "<Figure size 640x480 with 1 Axes>"
      ]
     },
     "metadata": {},
     "output_type": "display_data"
    }
   ],
   "source": [
    "train['length'] = train['email'].apply(lambda x: len(x))\n",
    "\n",
    "sns.histplot(data = train[(train.length < 50000) & (train.spam == 0)], x = 'length', label = 'ham', stat = 'density', bins = 20)\n",
    "sns.histplot(data = train[(train.length < 50000) & (train.spam == 1)], x = 'length', label = 'spam', stat = 'density', bins = 20)\n",
    "\n",
    "plt.axvline(np.mean(train[train.spam == 0]['length']), label = 'mean ham length', color = 'blue')\n",
    "plt.axvline(np.mean(train[train.spam == 1]['length']), label = 'mean spam length', color = 'orange')\n",
    "\n",
    "plt.legend()"
   ]
  },
  {
   "cell_type": "markdown",
   "metadata": {},
   "source": [
    "## Word Selection"
   ]
  },
  {
   "cell_type": "markdown",
   "metadata": {},
   "source": [
    "I found a website that had a bunch of spam phrases and words. Source: https://www.activecampaign.com/blog/spam-words"
   ]
  },
  {
   "cell_type": "code",
   "execution_count": 24,
   "metadata": {},
   "outputs": [],
   "source": [
    "# sample_spam_words = pd.read_csv('spam_texts.csv')\n",
    "# sample_spam_words.columns = ['spam_phrases']\n",
    "# sample_spam_words"
   ]
  },
  {
   "cell_type": "code",
   "execution_count": 25,
   "metadata": {},
   "outputs": [
    {
     "data": {
      "text/plain": [
       "'<HTML>\\n <HEAD>\\n </HEAD>\\n <BODY>\\n <FONT SIZE=3D\"4\"><B> A man endowed with a 7-8\" hammer is simply<br>\\n  better equipped than a man with a 5-6\"hammer. <BR>\\n <BR>Would you rather have<br>more than enough to get the job done or fall =\\n short. It\\'s totally up<br>to you. Our Methods are guaranteed to increase y=\\n our size by 1-3\"<br> <A HREF=3D\"http://209.163.187.47/cgi-bin/index.php?10=\\n 004\">Come in here and see how</A>\\n </BODY>\\n </HTML>\\n \\n \\n \\n'"
      ]
     },
     "execution_count": 25,
     "metadata": {},
     "output_type": "execute_result"
    }
   ],
   "source": [
    "train[train.spam == 1]['email'].values[0]"
   ]
  },
  {
   "cell_type": "code",
   "execution_count": 26,
   "metadata": {},
   "outputs": [
    {
     "data": {
      "text/plain": [
       "'Please visit http://ukprankcalls.com to play a hilarious joke on your mates!\\n \\n \\n'"
      ]
     },
     "execution_count": 26,
     "metadata": {},
     "output_type": "execute_result"
    }
   ],
   "source": [
    "train[train.spam == 1]['email'].values[1002]"
   ]
  },
  {
   "cell_type": "markdown",
   "metadata": {},
   "source": [
    "## Selecting Random emails:\n",
    "\n",
    "This code selects a random email and displays its contents."
   ]
  },
  {
   "cell_type": "code",
   "execution_count": 27,
   "metadata": {},
   "outputs": [
    {
     "data": {
      "text/plain": [
       "'<html>\\n <head>\\n <title>Digital Publishing Tools - Free Software Alert!</title>\\n <meta http-equiv=\"Content-Type\" content=\"text/html; charset=iso-8859-1\">\\n </head>\\n <body bgcolor=\"#FFFFFF\" text=\"#000000\">\\n <center>\\n <table width=\"582\" border=\"2\" cellspacing=\"0\" cellpadding=\"5\" bordercolor=\"#0077CC\">\\n <tr>\\n <td colspan=\"3\" width=\"582\" align=\"center\" bgcolor=\"#0077CC\"><!7190cBgu7-127WyoJ06l18>\\n <a href=\"http://3dpageturningebook.com\" style=\"text-decoration:none;\">\\n <b><font face=\"Verdana, Arial, Helvetica, sans-serif\" size=\"4\" color=\"#FFFFFF\">Publish Like a Professional with Digital Page \\n Author</font></b>\\n </a>\\n </td>\\n </tr>\\n \\n <tr>\\n <td colspan=\"1\" width=\"204\" valign=\"top\">\\n <b><font face=\"Verdana Arial, Helvetica, sans-serif\" color=\"#000066\" size=\"2\">Easily Create Professional:</font></b>\\n <font face=\"Verdana, Arial, Helvetica, sans-serif\" size=\"1\" color=\"#000066\">\\n <ul>\\n <li>eBooks</li>\\n <li>eBrochures</li>\\n <li>eCatalogs</li>\\n <li>Resumes</li>\\n <li>Newsletters</li>\\n <li>Presentations</li>\\n <li>Magazines</li>\\n <li>Photo Albums</li>\\n <li>Invitations</li>\\n <li>Much, much more</li>\\n </ul>\\n </font>\\n </td>\\n \\n <td colspan=\"1\" width=\"264\" valign=\"top\" align=\"center\">\\n <br>\\n <b><font face=\"Verdana Arial, Helvetica, sans-serif\" color=\"#000066\" size=\"2\">Save MONEY! - Save Trees</font></b>\\n <br>\\n <br>\\n <font face=\"Verdana, Arial, Helvetica, sans-serif\" size=\"1\" color=\"#0077CC\">\\n Save on Printing, Postage and Advertising Costs</font>\\n <br>\\n <br>\\n <a href=\"http://3dpageturningebook.com\" style=\"text-decoration:none;\">\\n <b><font face=\"Verdana Arial, Helvetica, sans-serif\" color=\"#000099\" size=\"5\">DIGITAL PAGE AUTHOR</font>\\n <br>\\n <br>\\n <font face=\"Verdana Arial, Helvetica, sans-serif\" color=\"#000066\" size=\"3\">DOWNLOAD NEW FREE Version NOW!</font></b>\\n </a>\\n <br>\\n <font face=\"Verdana, Arial, Helvetica, sans-serif\" size=\"1\" color=\"#0077CC\">*Limited Time Offer</font>\\n </td>\\n \\n <td width=\"204\" valign=\"top\"><b>\\n <font face=\"Verdana Arial, Helvetica, sans-serif\" size=\"2\" color=\"#000066\">Choose from the following Display \\n Styles:</font></b>\\n <font face=\"Verdana, Arial, Helvetica, sans-serif\" size=\"1\" color=\"#000066\">\\n <ul>\\n <li>3D Page Turn</li>\\n <li>Slide Show</li>\\n <li>Sweep/Wipe</li>\\n </ul>\\n </font>\\n <font face=\"Verdana, Arial, Helvetica, sans-serif\" size=\"1\" color=\"#0077CC\">Embed hyperlinks and Link to anywhere Online, \\n such as your Website, Order Page or Contact Form.\\n <br>\\n <br>\\n Distribute via Floppy, CD-ROM, E-Mail or Online.\\n </font>\\n </td>\\n </tr>\\n \\n <tr><td colspan=\"3\" width=\"582\" align=\"center\" bgcolor=\"#0077CC\"> \\n <font color=\"#FFFFFF\" face=\"Verdana, Arial, Helvetica, sans-serif\" size=\"4\"><b>\\n Take your Marketing to the Next Level!</b></font>\\n </td>\\n </tr>\\n \\n <tr>\\n <td colspan=\"2\" width=\"384\"> \\n <font size=\"2\" face=\"Verdana Arial, Helvetica, sans-serif\" color=\"#000066\">\\n For <b>More Info</b>, <b>Samples</b> or a <b>FREE Download</b>, click the appropriate link to the right! &nbsp;\\n Server demand is extremely high for this limited time <b>Free Software</b> offer. &nbsp\\n <b>Please try these links periodically if a site seems slow or unreachable.</b>\\n </font>\\n </td>\\n \\n <td colspan=\"1\" width=\"204\" align=\"center\"> \\n <b><font size=\"4\" face=\"Verdana, Arial, Helvetica, sans-serif\">\\n <a href=\"http://3dpageturningebook.com\">WEBSITE 1</a><br>\\n <a href=\"http://TheyGo.com/FreeSoftware\">WEBSITE 2</a><br>\\n <a href=\"http://www.digitalpublishingtools.com\">WEBSITE 3</a><br>\\n </font></b>\\n </td>\\n </tr>\\n \\n <tr>\\n <td colspan=\"3\" width=\"582\" align=\"center\">\\n <form action=\"http://www.3dpageturningebook.com/unsubscribe.asp\" method=\"post\">\\n <font size=\"2\" face=\"Verdana Arial, Helvetica, sans-serif\" color=\"#000066\">\\n If you wish to be removed from our mailing list, please cick the Unsubscribe button\\n </font>\\n <br>\\n <input size=\"25\" name=\"e\" value=\"webmaster@efi.ie\\n \"> &nbsp;<input type=\"submit\" value=\"Unsubscribe\">\\n <input type=\"hidden\" name=\"c\" value=\"unsub\">\\n </form>\\n <font face=\"Verdana, Arial, Helvetica, sans-serif\" color=#000066 size=1>Copyright  2002 - Affiliate ID #1269<br>\\n *FREE Version is FULLY FUNCTIONAL with NO EXPIRATION and has a 4 page (2 page spread) limit.</font>\\n </td>\\n </tr>\\n \\n </table>\\n \\n </center>\\n </body>\\n </html>\\n \\n \\n'"
      ]
     },
     "execution_count": 27,
     "metadata": {},
     "output_type": "execute_result"
    }
   ],
   "source": [
    "import random\n",
    "\n",
    "train[train.spam == 1]['email'].values[random.randint(0, len(train[train.spam == 1]))]"
   ]
  },
  {
   "cell_type": "code",
   "execution_count": 28,
   "metadata": {},
   "outputs": [],
   "source": [
    "words = ['Free', 'Ad', 'Offer', 'Credit', 'Save', 'Click here',\n",
    "       'Guaranteed', 'Money', 'Rates', 'Special', 'Refinance', 'Debt',\n",
    "       'Cash', 'Quote', 'Easy', 'Loans', 'Secret', 'Limited', 'Removal',\n",
    "       'Promotion', 'Opportunity', 'Income', 'Bonus', 'Save up to',\n",
    "       'Warranty', 'Unlimited', 'Membership', 'Deal', 'Billion',\n",
    "       'Premium']\n",
    "\n",
    "new_train = train.copy()\n",
    "\n",
    "indicator_data = []\n",
    "\n",
    "for word in words:\n",
    "    indicator_array = words_in_texts([word], new_train['email'])\n",
    "    indicator_data.append(indicator_array[:, 0])  # Convert to 1D and append\n",
    "\n",
    "# Create a DataFrame from the indicator data\n",
    "indicator_df = pd.DataFrame(indicator_data).transpose()\n",
    "indicator_df.columns = words\n",
    "\n",
    "# Concatenate the new DataFrame with the original one\n",
    "new_train = pd.concat([new_train, indicator_df], axis=1)\n",
    "\n"
   ]
  },
  {
   "cell_type": "code",
   "execution_count": 29,
   "metadata": {},
   "outputs": [
    {
     "data": {
      "text/plain": [
       "array(['Free', 'Ad', 'Offer', 'Credit', 'Save', 'Click here',\n",
       "       'Guaranteed', 'Money', 'Rates', 'Special', 'Refinance', 'Debt',\n",
       "       'Cash', 'Quote', 'Easy', 'Loans', 'Secret', 'Limited', 'Removal',\n",
       "       'Promotion'], dtype=object)"
      ]
     },
     "execution_count": 29,
     "metadata": {},
     "output_type": "execute_result"
    }
   ],
   "source": [
    "# display(new_train.iloc[:, range(-1 * len(words), 0)])\n",
    "# display(new_train)\n",
    "\n",
    "cols = ['spam'] + words\n",
    "\n",
    "dat = new_train[cols].melt('spam')\n",
    "dat.value_counts()\n",
    "# dispaly(dat)\n",
    "spam_dict = {0: 'ham', 1: 'spam'}\n",
    "dat['label'] = dat['spam'].map(spam_dict)\n",
    "\n",
    "pt = pd.pivot_table(dat, index = 'variable', columns = 'label', aggfunc = 'mean').reset_index().droplevel(1, axis=1)\n",
    "pt.columns = ['variable', 'spam', 'spam', 'ham_perc', 'spam_perc']\n",
    "pt['differential'] = pt.spam_perc - pt.ham_perc\n",
    "# display(pt.head())\n",
    "best_words = pt.sort_values('differential', ascending = False).variable.values[0:20]\n",
    "best_words"
   ]
  },
  {
   "cell_type": "code",
   "execution_count": 30,
   "metadata": {},
   "outputs": [
    {
     "data": {
      "text/html": [
       "<div>\n",
       "<style scoped>\n",
       "    .dataframe tbody tr th:only-of-type {\n",
       "        vertical-align: middle;\n",
       "    }\n",
       "\n",
       "    .dataframe tbody tr th {\n",
       "        vertical-align: top;\n",
       "    }\n",
       "\n",
       "    .dataframe thead th {\n",
       "        text-align: right;\n",
       "    }\n",
       "</style>\n",
       "<table border=\"1\" class=\"dataframe\">\n",
       "  <thead>\n",
       "    <tr style=\"text-align: right;\">\n",
       "      <th></th>\n",
       "      <th>variable</th>\n",
       "      <th>spam</th>\n",
       "      <th>spam</th>\n",
       "      <th>ham_perc</th>\n",
       "      <th>spam_perc</th>\n",
       "      <th>differential</th>\n",
       "    </tr>\n",
       "  </thead>\n",
       "  <tbody>\n",
       "    <tr>\n",
       "      <th>9</th>\n",
       "      <td>Free</td>\n",
       "      <td>0</td>\n",
       "      <td>1</td>\n",
       "      <td>0.058956</td>\n",
       "      <td>0.178037</td>\n",
       "      <td>0.119081</td>\n",
       "    </tr>\n",
       "    <tr>\n",
       "      <th>0</th>\n",
       "      <td>Ad</td>\n",
       "      <td>0</td>\n",
       "      <td>1</td>\n",
       "      <td>0.125966</td>\n",
       "      <td>0.217290</td>\n",
       "      <td>0.091323</td>\n",
       "    </tr>\n",
       "    <tr>\n",
       "      <th>16</th>\n",
       "      <td>Offer</td>\n",
       "      <td>0</td>\n",
       "      <td>1</td>\n",
       "      <td>0.003866</td>\n",
       "      <td>0.074299</td>\n",
       "      <td>0.070433</td>\n",
       "    </tr>\n",
       "    <tr>\n",
       "      <th>5</th>\n",
       "      <td>Credit</td>\n",
       "      <td>0</td>\n",
       "      <td>1</td>\n",
       "      <td>0.001128</td>\n",
       "      <td>0.069159</td>\n",
       "      <td>0.068031</td>\n",
       "    </tr>\n",
       "    <tr>\n",
       "      <th>24</th>\n",
       "      <td>Save</td>\n",
       "      <td>0</td>\n",
       "      <td>1</td>\n",
       "      <td>0.005799</td>\n",
       "      <td>0.070093</td>\n",
       "      <td>0.064294</td>\n",
       "    </tr>\n",
       "    <tr>\n",
       "      <th>4</th>\n",
       "      <td>Click here</td>\n",
       "      <td>0</td>\n",
       "      <td>1</td>\n",
       "      <td>0.013853</td>\n",
       "      <td>0.071495</td>\n",
       "      <td>0.057642</td>\n",
       "    </tr>\n",
       "    <tr>\n",
       "      <th>10</th>\n",
       "      <td>Guaranteed</td>\n",
       "      <td>0</td>\n",
       "      <td>1</td>\n",
       "      <td>0.000000</td>\n",
       "      <td>0.055607</td>\n",
       "      <td>0.055607</td>\n",
       "    </tr>\n",
       "    <tr>\n",
       "      <th>15</th>\n",
       "      <td>Money</td>\n",
       "      <td>0</td>\n",
       "      <td>1</td>\n",
       "      <td>0.004832</td>\n",
       "      <td>0.050000</td>\n",
       "      <td>0.045168</td>\n",
       "    </tr>\n",
       "    <tr>\n",
       "      <th>21</th>\n",
       "      <td>Rates</td>\n",
       "      <td>0</td>\n",
       "      <td>1</td>\n",
       "      <td>0.001933</td>\n",
       "      <td>0.042991</td>\n",
       "      <td>0.041058</td>\n",
       "    </tr>\n",
       "    <tr>\n",
       "      <th>27</th>\n",
       "      <td>Special</td>\n",
       "      <td>0</td>\n",
       "      <td>1</td>\n",
       "      <td>0.020296</td>\n",
       "      <td>0.058879</td>\n",
       "      <td>0.038582</td>\n",
       "    </tr>\n",
       "    <tr>\n",
       "      <th>22</th>\n",
       "      <td>Refinance</td>\n",
       "      <td>0</td>\n",
       "      <td>1</td>\n",
       "      <td>0.000000</td>\n",
       "      <td>0.035047</td>\n",
       "      <td>0.035047</td>\n",
       "    </tr>\n",
       "    <tr>\n",
       "      <th>7</th>\n",
       "      <td>Debt</td>\n",
       "      <td>0</td>\n",
       "      <td>1</td>\n",
       "      <td>0.000322</td>\n",
       "      <td>0.030841</td>\n",
       "      <td>0.030519</td>\n",
       "    </tr>\n",
       "    <tr>\n",
       "      <th>3</th>\n",
       "      <td>Cash</td>\n",
       "      <td>0</td>\n",
       "      <td>1</td>\n",
       "      <td>0.001128</td>\n",
       "      <td>0.029439</td>\n",
       "      <td>0.028312</td>\n",
       "    </tr>\n",
       "    <tr>\n",
       "      <th>20</th>\n",
       "      <td>Quote</td>\n",
       "      <td>0</td>\n",
       "      <td>1</td>\n",
       "      <td>0.004994</td>\n",
       "      <td>0.033178</td>\n",
       "      <td>0.028184</td>\n",
       "    </tr>\n",
       "    <tr>\n",
       "      <th>8</th>\n",
       "      <td>Easy</td>\n",
       "      <td>0</td>\n",
       "      <td>1</td>\n",
       "      <td>0.012081</td>\n",
       "      <td>0.038785</td>\n",
       "      <td>0.026704</td>\n",
       "    </tr>\n",
       "    <tr>\n",
       "      <th>13</th>\n",
       "      <td>Loans</td>\n",
       "      <td>0</td>\n",
       "      <td>1</td>\n",
       "      <td>0.000000</td>\n",
       "      <td>0.026636</td>\n",
       "      <td>0.026636</td>\n",
       "    </tr>\n",
       "    <tr>\n",
       "      <th>26</th>\n",
       "      <td>Secret</td>\n",
       "      <td>0</td>\n",
       "      <td>1</td>\n",
       "      <td>0.005799</td>\n",
       "      <td>0.031776</td>\n",
       "      <td>0.025977</td>\n",
       "    </tr>\n",
       "    <tr>\n",
       "      <th>12</th>\n",
       "      <td>Limited</td>\n",
       "      <td>0</td>\n",
       "      <td>1</td>\n",
       "      <td>0.002094</td>\n",
       "      <td>0.026636</td>\n",
       "      <td>0.024541</td>\n",
       "    </tr>\n",
       "    <tr>\n",
       "      <th>23</th>\n",
       "      <td>Removal</td>\n",
       "      <td>0</td>\n",
       "      <td>1</td>\n",
       "      <td>0.000322</td>\n",
       "      <td>0.024766</td>\n",
       "      <td>0.024444</td>\n",
       "    </tr>\n",
       "    <tr>\n",
       "      <th>19</th>\n",
       "      <td>Promotion</td>\n",
       "      <td>0</td>\n",
       "      <td>1</td>\n",
       "      <td>0.001933</td>\n",
       "      <td>0.024766</td>\n",
       "      <td>0.022833</td>\n",
       "    </tr>\n",
       "    <tr>\n",
       "      <th>17</th>\n",
       "      <td>Opportunity</td>\n",
       "      <td>0</td>\n",
       "      <td>1</td>\n",
       "      <td>0.000966</td>\n",
       "      <td>0.022897</td>\n",
       "      <td>0.021931</td>\n",
       "    </tr>\n",
       "    <tr>\n",
       "      <th>11</th>\n",
       "      <td>Income</td>\n",
       "      <td>0</td>\n",
       "      <td>1</td>\n",
       "      <td>0.001933</td>\n",
       "      <td>0.023364</td>\n",
       "      <td>0.021431</td>\n",
       "    </tr>\n",
       "    <tr>\n",
       "      <th>2</th>\n",
       "      <td>Bonus</td>\n",
       "      <td>0</td>\n",
       "      <td>1</td>\n",
       "      <td>0.000805</td>\n",
       "      <td>0.021028</td>\n",
       "      <td>0.020223</td>\n",
       "    </tr>\n",
       "    <tr>\n",
       "      <th>25</th>\n",
       "      <td>Save up to</td>\n",
       "      <td>0</td>\n",
       "      <td>1</td>\n",
       "      <td>0.000161</td>\n",
       "      <td>0.018224</td>\n",
       "      <td>0.018063</td>\n",
       "    </tr>\n",
       "    <tr>\n",
       "      <th>29</th>\n",
       "      <td>Warranty</td>\n",
       "      <td>0</td>\n",
       "      <td>1</td>\n",
       "      <td>0.000000</td>\n",
       "      <td>0.017757</td>\n",
       "      <td>0.017757</td>\n",
       "    </tr>\n",
       "    <tr>\n",
       "      <th>28</th>\n",
       "      <td>Unlimited</td>\n",
       "      <td>0</td>\n",
       "      <td>1</td>\n",
       "      <td>0.000161</td>\n",
       "      <td>0.016822</td>\n",
       "      <td>0.016661</td>\n",
       "    </tr>\n",
       "    <tr>\n",
       "      <th>14</th>\n",
       "      <td>Membership</td>\n",
       "      <td>0</td>\n",
       "      <td>1</td>\n",
       "      <td>0.001289</td>\n",
       "      <td>0.016822</td>\n",
       "      <td>0.015534</td>\n",
       "    </tr>\n",
       "    <tr>\n",
       "      <th>6</th>\n",
       "      <td>Deal</td>\n",
       "      <td>0</td>\n",
       "      <td>1</td>\n",
       "      <td>0.006604</td>\n",
       "      <td>0.021963</td>\n",
       "      <td>0.015358</td>\n",
       "    </tr>\n",
       "    <tr>\n",
       "      <th>1</th>\n",
       "      <td>Billion</td>\n",
       "      <td>0</td>\n",
       "      <td>1</td>\n",
       "      <td>0.001289</td>\n",
       "      <td>0.016355</td>\n",
       "      <td>0.015066</td>\n",
       "    </tr>\n",
       "    <tr>\n",
       "      <th>18</th>\n",
       "      <td>Premium</td>\n",
       "      <td>0</td>\n",
       "      <td>1</td>\n",
       "      <td>0.000483</td>\n",
       "      <td>0.014953</td>\n",
       "      <td>0.014470</td>\n",
       "    </tr>\n",
       "  </tbody>\n",
       "</table>\n",
       "</div>"
      ],
      "text/plain": [
       "       variable  spam  spam  ham_perc  spam_perc  differential\n",
       "9          Free     0     1  0.058956   0.178037      0.119081\n",
       "0            Ad     0     1  0.125966   0.217290      0.091323\n",
       "16        Offer     0     1  0.003866   0.074299      0.070433\n",
       "5        Credit     0     1  0.001128   0.069159      0.068031\n",
       "24         Save     0     1  0.005799   0.070093      0.064294\n",
       "4    Click here     0     1  0.013853   0.071495      0.057642\n",
       "10   Guaranteed     0     1  0.000000   0.055607      0.055607\n",
       "15        Money     0     1  0.004832   0.050000      0.045168\n",
       "21        Rates     0     1  0.001933   0.042991      0.041058\n",
       "27      Special     0     1  0.020296   0.058879      0.038582\n",
       "22    Refinance     0     1  0.000000   0.035047      0.035047\n",
       "7          Debt     0     1  0.000322   0.030841      0.030519\n",
       "3          Cash     0     1  0.001128   0.029439      0.028312\n",
       "20        Quote     0     1  0.004994   0.033178      0.028184\n",
       "8          Easy     0     1  0.012081   0.038785      0.026704\n",
       "13        Loans     0     1  0.000000   0.026636      0.026636\n",
       "26       Secret     0     1  0.005799   0.031776      0.025977\n",
       "12      Limited     0     1  0.002094   0.026636      0.024541\n",
       "23      Removal     0     1  0.000322   0.024766      0.024444\n",
       "19    Promotion     0     1  0.001933   0.024766      0.022833\n",
       "17  Opportunity     0     1  0.000966   0.022897      0.021931\n",
       "11       Income     0     1  0.001933   0.023364      0.021431\n",
       "2         Bonus     0     1  0.000805   0.021028      0.020223\n",
       "25   Save up to     0     1  0.000161   0.018224      0.018063\n",
       "29     Warranty     0     1  0.000000   0.017757      0.017757\n",
       "28    Unlimited     0     1  0.000161   0.016822      0.016661\n",
       "14   Membership     0     1  0.001289   0.016822      0.015534\n",
       "6          Deal     0     1  0.006604   0.021963      0.015358\n",
       "1       Billion     0     1  0.001289   0.016355      0.015066\n",
       "18      Premium     0     1  0.000483   0.014953      0.014470"
      ]
     },
     "execution_count": 30,
     "metadata": {},
     "output_type": "execute_result"
    }
   ],
   "source": [
    "pt.sort_values('differential', ascending = False)"
   ]
  },
  {
   "cell_type": "markdown",
   "metadata": {},
   "source": [
    "## HMTL Analysis"
   ]
  },
  {
   "cell_type": "code",
   "execution_count": 31,
   "metadata": {},
   "outputs": [],
   "source": [
    "# train.email[2]"
   ]
  },
  {
   "cell_type": "code",
   "execution_count": 32,
   "metadata": {},
   "outputs": [
    {
     "data": {
      "text/html": [
       "<div>\n",
       "<style scoped>\n",
       "    .dataframe tbody tr th:only-of-type {\n",
       "        vertical-align: middle;\n",
       "    }\n",
       "\n",
       "    .dataframe tbody tr th {\n",
       "        vertical-align: top;\n",
       "    }\n",
       "\n",
       "    .dataframe thead th {\n",
       "        text-align: right;\n",
       "    }\n",
       "</style>\n",
       "<table border=\"1\" class=\"dataframe\">\n",
       "  <thead>\n",
       "    <tr style=\"text-align: right;\">\n",
       "      <th></th>\n",
       "      <th>id</th>\n",
       "      <th>subject</th>\n",
       "      <th>email</th>\n",
       "      <th>spam</th>\n",
       "      <th>length</th>\n",
       "      <th>Free</th>\n",
       "      <th>Ad</th>\n",
       "      <th>Offer</th>\n",
       "      <th>Credit</th>\n",
       "      <th>Save</th>\n",
       "      <th>...</th>\n",
       "      <th>Opportunity</th>\n",
       "      <th>Income</th>\n",
       "      <th>Bonus</th>\n",
       "      <th>Save up to</th>\n",
       "      <th>Warranty</th>\n",
       "      <th>Unlimited</th>\n",
       "      <th>Membership</th>\n",
       "      <th>Deal</th>\n",
       "      <th>Billion</th>\n",
       "      <th>Premium</th>\n",
       "    </tr>\n",
       "  </thead>\n",
       "  <tbody>\n",
       "    <tr>\n",
       "      <th>0</th>\n",
       "      <td>0</td>\n",
       "      <td>Subject: A&amp;L Daily to be auctioned in bankrupt...</td>\n",
       "      <td>URL: http://boingboing.net/#85534171\\n Date: N...</td>\n",
       "      <td>0</td>\n",
       "      <td>359</td>\n",
       "      <td>0</td>\n",
       "      <td>0</td>\n",
       "      <td>0</td>\n",
       "      <td>0</td>\n",
       "      <td>0</td>\n",
       "      <td>...</td>\n",
       "      <td>0</td>\n",
       "      <td>0</td>\n",
       "      <td>0</td>\n",
       "      <td>0</td>\n",
       "      <td>0</td>\n",
       "      <td>0</td>\n",
       "      <td>0</td>\n",
       "      <td>0</td>\n",
       "      <td>0</td>\n",
       "      <td>0</td>\n",
       "    </tr>\n",
       "    <tr>\n",
       "      <th>1</th>\n",
       "      <td>1</td>\n",
       "      <td>Subject: Wired: \"Stronger ties between ISPs an...</td>\n",
       "      <td>URL: http://scriptingnews.userland.com/backiss...</td>\n",
       "      <td>0</td>\n",
       "      <td>278</td>\n",
       "      <td>0</td>\n",
       "      <td>0</td>\n",
       "      <td>0</td>\n",
       "      <td>0</td>\n",
       "      <td>0</td>\n",
       "      <td>...</td>\n",
       "      <td>0</td>\n",
       "      <td>0</td>\n",
       "      <td>0</td>\n",
       "      <td>0</td>\n",
       "      <td>0</td>\n",
       "      <td>0</td>\n",
       "      <td>0</td>\n",
       "      <td>0</td>\n",
       "      <td>0</td>\n",
       "      <td>0</td>\n",
       "    </tr>\n",
       "    <tr>\n",
       "      <th>2</th>\n",
       "      <td>2</td>\n",
       "      <td>Subject: It's just too small                  ...</td>\n",
       "      <td>&lt;HTML&gt;\\n &lt;HEAD&gt;\\n &lt;/HEAD&gt;\\n &lt;BODY&gt;\\n &lt;FONT SIZ...</td>\n",
       "      <td>1</td>\n",
       "      <td>444</td>\n",
       "      <td>0</td>\n",
       "      <td>0</td>\n",
       "      <td>0</td>\n",
       "      <td>0</td>\n",
       "      <td>0</td>\n",
       "      <td>...</td>\n",
       "      <td>0</td>\n",
       "      <td>0</td>\n",
       "      <td>0</td>\n",
       "      <td>0</td>\n",
       "      <td>0</td>\n",
       "      <td>0</td>\n",
       "      <td>0</td>\n",
       "      <td>0</td>\n",
       "      <td>0</td>\n",
       "      <td>0</td>\n",
       "    </tr>\n",
       "    <tr>\n",
       "      <th>3</th>\n",
       "      <td>3</td>\n",
       "      <td>Subject: liberal defnitions\\n</td>\n",
       "      <td>Depends on how much over spending vs. how much...</td>\n",
       "      <td>0</td>\n",
       "      <td>1500</td>\n",
       "      <td>0</td>\n",
       "      <td>0</td>\n",
       "      <td>0</td>\n",
       "      <td>0</td>\n",
       "      <td>0</td>\n",
       "      <td>...</td>\n",
       "      <td>0</td>\n",
       "      <td>0</td>\n",
       "      <td>0</td>\n",
       "      <td>0</td>\n",
       "      <td>0</td>\n",
       "      <td>0</td>\n",
       "      <td>0</td>\n",
       "      <td>0</td>\n",
       "      <td>0</td>\n",
       "      <td>0</td>\n",
       "    </tr>\n",
       "    <tr>\n",
       "      <th>4</th>\n",
       "      <td>4</td>\n",
       "      <td>Subject: RE: [ILUG] Newbie seeks advice - Suse...</td>\n",
       "      <td>hehe sorry but if you hit caps lock twice the ...</td>\n",
       "      <td>0</td>\n",
       "      <td>2018</td>\n",
       "      <td>0</td>\n",
       "      <td>1</td>\n",
       "      <td>0</td>\n",
       "      <td>0</td>\n",
       "      <td>0</td>\n",
       "      <td>...</td>\n",
       "      <td>0</td>\n",
       "      <td>0</td>\n",
       "      <td>0</td>\n",
       "      <td>0</td>\n",
       "      <td>0</td>\n",
       "      <td>0</td>\n",
       "      <td>0</td>\n",
       "      <td>0</td>\n",
       "      <td>0</td>\n",
       "      <td>0</td>\n",
       "    </tr>\n",
       "  </tbody>\n",
       "</table>\n",
       "<p>5 rows × 35 columns</p>\n",
       "</div>"
      ],
      "text/plain": [
       "   id                                            subject  \\\n",
       "0   0  Subject: A&L Daily to be auctioned in bankrupt...   \n",
       "1   1  Subject: Wired: \"Stronger ties between ISPs an...   \n",
       "2   2  Subject: It's just too small                  ...   \n",
       "3   3                      Subject: liberal defnitions\\n   \n",
       "4   4  Subject: RE: [ILUG] Newbie seeks advice - Suse...   \n",
       "\n",
       "                                               email  spam  length  Free  Ad  \\\n",
       "0  URL: http://boingboing.net/#85534171\\n Date: N...     0     359     0   0   \n",
       "1  URL: http://scriptingnews.userland.com/backiss...     0     278     0   0   \n",
       "2  <HTML>\\n <HEAD>\\n </HEAD>\\n <BODY>\\n <FONT SIZ...     1     444     0   0   \n",
       "3  Depends on how much over spending vs. how much...     0    1500     0   0   \n",
       "4  hehe sorry but if you hit caps lock twice the ...     0    2018     0   1   \n",
       "\n",
       "   Offer  Credit  Save  ...  Opportunity  Income  Bonus  Save up to  Warranty  \\\n",
       "0      0       0     0  ...            0       0      0           0         0   \n",
       "1      0       0     0  ...            0       0      0           0         0   \n",
       "2      0       0     0  ...            0       0      0           0         0   \n",
       "3      0       0     0  ...            0       0      0           0         0   \n",
       "4      0       0     0  ...            0       0      0           0         0   \n",
       "\n",
       "   Unlimited  Membership  Deal  Billion  Premium  \n",
       "0          0           0     0        0        0  \n",
       "1          0           0     0        0        0  \n",
       "2          0           0     0        0        0  \n",
       "3          0           0     0        0        0  \n",
       "4          0           0     0        0        0  \n",
       "\n",
       "[5 rows x 35 columns]"
      ]
     },
     "execution_count": 32,
     "metadata": {},
     "output_type": "execute_result"
    }
   ],
   "source": [
    "new_train.head()"
   ]
  },
  {
   "cell_type": "code",
   "execution_count": 33,
   "metadata": {},
   "outputs": [
    {
     "data": {
      "text/plain": [
       "<Axes: xlabel='hmtl_counts', ylabel='Density'>"
      ]
     },
     "execution_count": 33,
     "metadata": {},
     "output_type": "execute_result"
    },
    {
     "data": {
      "image/png": "[encoded data removed]",
      "text/plain": [
       "<Figure size 640x480 with 1 Axes>"
      ]
     },
     "metadata": {},
     "output_type": "display_data"
    }
   ],
   "source": [
    "\"\"\"\n",
    "First, we are detecting the number of HTML tags that exist in each email. It seems that way more html tags exist \n",
    "in spam emails rather than regular emails.\n",
    "\"\"\"\n",
    "\n",
    "\n",
    "html_stuff = train.email.str.extractall('<([^>]+)>').reset_index()\n",
    "html_gb = html_stuff.groupby('level_0').agg('count')\n",
    "\n",
    "new_train = train.copy()\n",
    "new_train['hmtl_counts'] = html_stuff.groupby('level_0').agg('count').iloc[:, 0]\n",
    "new_train.fillna(0)\n",
    "\n",
    "sns.histplot(data = new_train[new_train.hmtl_counts < 1000], hue = 'spam', x = 'hmtl_counts', bins = 20, stat = 'density')"
   ]
  },
  {
   "cell_type": "markdown",
   "metadata": {},
   "source": [
    "Trying to understand how many 'head' and 'body' formatting to see if there's a pattern"
   ]
  },
  {
   "cell_type": "code",
   "execution_count": 34,
   "metadata": {},
   "outputs": [
    {
     "data": {
      "text/html": [
       "<div>\n",
       "<style scoped>\n",
       "    .dataframe tbody tr th:only-of-type {\n",
       "        vertical-align: middle;\n",
       "    }\n",
       "\n",
       "    .dataframe tbody tr th {\n",
       "        vertical-align: top;\n",
       "    }\n",
       "\n",
       "    .dataframe thead th {\n",
       "        text-align: right;\n",
       "    }\n",
       "</style>\n",
       "<table border=\"1\" class=\"dataframe\">\n",
       "  <thead>\n",
       "    <tr style=\"text-align: right;\">\n",
       "      <th></th>\n",
       "      <th>level_0</th>\n",
       "      <th>match</th>\n",
       "      <th>0</th>\n",
       "      <th>new_lowered</th>\n",
       "    </tr>\n",
       "  </thead>\n",
       "  <tbody>\n",
       "    <tr>\n",
       "      <th>16</th>\n",
       "      <td>7</td>\n",
       "      <td>0</td>\n",
       "      <td>body lang=EN-US</td>\n",
       "      <td>body lang=en-us</td>\n",
       "    </tr>\n",
       "    <tr>\n",
       "      <th>18</th>\n",
       "      <td>7</td>\n",
       "      <td>2</td>\n",
       "      <td>p class=MsoBodyText style='text-align:justify'</td>\n",
       "      <td>p class=msobodytext style='text-align:justify'</td>\n",
       "    </tr>\n",
       "    <tr>\n",
       "      <th>30</th>\n",
       "      <td>7</td>\n",
       "      <td>14</td>\n",
       "      <td>p class=MsoBodyText style='text-align:justify'</td>\n",
       "      <td>p class=msobodytext style='text-align:justify'</td>\n",
       "    </tr>\n",
       "    <tr>\n",
       "      <th>38</th>\n",
       "      <td>7</td>\n",
       "      <td>22</td>\n",
       "      <td>p class=MsoBodyText style='text-align:justify'</td>\n",
       "      <td>p class=msobodytext style='text-align:justify'</td>\n",
       "    </tr>\n",
       "    <tr>\n",
       "      <th>42</th>\n",
       "      <td>7</td>\n",
       "      <td>26</td>\n",
       "      <td>p class=MsoBodyText style='text-align:justify'</td>\n",
       "      <td>p class=msobodytext style='text-align:justify'</td>\n",
       "    </tr>\n",
       "    <tr>\n",
       "      <th>44</th>\n",
       "      <td>7</td>\n",
       "      <td>28</td>\n",
       "      <td>p class=MsoBodyText style='text-align:justify'</td>\n",
       "      <td>p class=msobodytext style='text-align:justify'</td>\n",
       "    </tr>\n",
       "    <tr>\n",
       "      <th>46</th>\n",
       "      <td>7</td>\n",
       "      <td>30</td>\n",
       "      <td>p class=MsoBodyText style='text-align:justify'</td>\n",
       "      <td>p class=msobodytext style='text-align:justify'</td>\n",
       "    </tr>\n",
       "    <tr>\n",
       "      <th>48</th>\n",
       "      <td>7</td>\n",
       "      <td>32</td>\n",
       "      <td>p class=MsoBodyText style='text-align:justify'</td>\n",
       "      <td>p class=msobodytext style='text-align:justify'</td>\n",
       "    </tr>\n",
       "    <tr>\n",
       "      <th>52</th>\n",
       "      <td>7</td>\n",
       "      <td>36</td>\n",
       "      <td>p class=MsoBodyText style='text-align:justify'</td>\n",
       "      <td>p class=msobodytext style='text-align:justify'</td>\n",
       "    </tr>\n",
       "    <tr>\n",
       "      <th>54</th>\n",
       "      <td>7</td>\n",
       "      <td>38</td>\n",
       "      <td>p class=MsoBodyText</td>\n",
       "      <td>p class=msobodytext</td>\n",
       "    </tr>\n",
       "    <tr>\n",
       "      <th>57</th>\n",
       "      <td>7</td>\n",
       "      <td>41</td>\n",
       "      <td>/body</td>\n",
       "      <td>/body</td>\n",
       "    </tr>\n",
       "  </tbody>\n",
       "</table>\n",
       "</div>"
      ],
      "text/plain": [
       "    level_0  match                                               0  \\\n",
       "16        7      0                                 body lang=EN-US   \n",
       "18        7      2  p class=MsoBodyText style='text-align:justify'   \n",
       "30        7     14  p class=MsoBodyText style='text-align:justify'   \n",
       "38        7     22  p class=MsoBodyText style='text-align:justify'   \n",
       "42        7     26  p class=MsoBodyText style='text-align:justify'   \n",
       "44        7     28  p class=MsoBodyText style='text-align:justify'   \n",
       "46        7     30  p class=MsoBodyText style='text-align:justify'   \n",
       "48        7     32  p class=MsoBodyText style='text-align:justify'   \n",
       "52        7     36  p class=MsoBodyText style='text-align:justify'   \n",
       "54        7     38                             p class=MsoBodyText   \n",
       "57        7     41                                           /body   \n",
       "\n",
       "                                       new_lowered  \n",
       "16                                 body lang=en-us  \n",
       "18  p class=msobodytext style='text-align:justify'  \n",
       "30  p class=msobodytext style='text-align:justify'  \n",
       "38  p class=msobodytext style='text-align:justify'  \n",
       "42  p class=msobodytext style='text-align:justify'  \n",
       "44  p class=msobodytext style='text-align:justify'  \n",
       "46  p class=msobodytext style='text-align:justify'  \n",
       "48  p class=msobodytext style='text-align:justify'  \n",
       "52  p class=msobodytext style='text-align:justify'  \n",
       "54                             p class=msobodytext  \n",
       "57                                           /body  "
      ]
     },
     "execution_count": 34,
     "metadata": {},
     "output_type": "execute_result"
    }
   ],
   "source": [
    "html_stuff['new_lowered'] = html_stuff[0].apply(lambda string: string.lower())\n",
    "html_stuff\n",
    "html_stuff[(html_stuff.level_0 == 7) & ((html_stuff.new_lowered.str.contains('body')) | (html_stuff.new_lowered.str.contains('head')))]"
   ]
  },
  {
   "cell_type": "code",
   "execution_count": 35,
   "metadata": {},
   "outputs": [],
   "source": [
    "def head_body_count(df):\n",
    "    return len(df[((df.new_lowered.str.contains('body')) | (df.new_lowered.str.contains('head')))])\n",
    "\n",
    "df_test = html_stuff[html_stuff.level_0 == 1]\n",
    "head_body_count(df_test)\n",
    "    \n",
    "hb_counts = html_stuff.sort_values('level_0', ascending = True).groupby('level_0').apply(lambda grp: head_body_count(grp))\n",
    "# hb_counts"
   ]
  },
  {
   "cell_type": "code",
   "execution_count": 36,
   "metadata": {},
   "outputs": [],
   "source": [
    "head_body_count_arr = []\n",
    "\n",
    "for i in range(len(train)):\n",
    "    if i in hb_counts.index:\n",
    "        head_body_count_arr.append(hb_counts[i])\n",
    "    else:\n",
    "        head_body_count_arr.append(0)\n",
    "\n",
    "train['head_body_count'] = head_body_count_arr"
   ]
  },
  {
   "cell_type": "code",
   "execution_count": 37,
   "metadata": {},
   "outputs": [
    {
     "data": {
      "text/plain": [
       "<matplotlib.legend.Legend at 0x7f752ddcd610>"
      ]
     },
     "execution_count": 37,
     "metadata": {},
     "output_type": "execute_result"
    },
    {
     "data": {
      "image/png": "[encoded data removed]",
      "text/plain": [
       "<Figure size 640x480 with 1 Axes>"
      ]
     },
     "metadata": {},
     "output_type": "display_data"
    }
   ],
   "source": [
    "sns.histplot(data = train[train.spam == 0], x = 'head_body_count', stat = 'density', bins = 10, label = 'ham')\n",
    "sns.histplot(data = train[train.spam == 1], x = 'head_body_count', stat = 'density', bins = 10, label = 'spam')\n",
    "\n",
    "plt.axvline(np.mean(train[train.spam == 0].head_body_count), label = 'ham avg', color = 'blue')\n",
    "plt.axvline(np.mean(train[train.spam == 1].head_body_count), label = 'spam avg', color = 'orange')\n",
    "\n",
    "\n",
    "plt.legend()"
   ]
  },
  {
   "cell_type": "markdown",
   "metadata": {},
   "source": [
    "## Attempting Sentiment Analysis"
   ]
  },
  {
   "cell_type": "code",
   "execution_count": 38,
   "metadata": {},
   "outputs": [],
   "source": [
    "# file_path = 'vader_lexicon.txt'\n",
    "\n",
    "# df = pd.read_csv(file_path, sep='\\t', header=None)\n",
    "# df.columns = ['symbol', 'score', 'score_sd', 'sample_scores']\n",
    "# df.head()"
   ]
  },
  {
   "cell_type": "code",
   "execution_count": 39,
   "metadata": {},
   "outputs": [],
   "source": [
    "# sentiment_dict = df.set_index('symbol')['score'].to_dict()"
   ]
  },
  {
   "cell_type": "code",
   "execution_count": 40,
   "metadata": {},
   "outputs": [],
   "source": [
    "# train.email.values[5]"
   ]
  },
  {
   "cell_type": "code",
   "execution_count": 41,
   "metadata": {},
   "outputs": [
    {
     "data": {
      "text/plain": [
       "'URL  Date Not supplied  Arts and Letters Daily a wonderful and dense blog has folded up its tent due  to the bankruptcy of its parent company AL Daily will be auctioned off by the  receivers Link1 Discuss2 Thanks Misha  1  2   '"
      ]
     },
     "execution_count": 41,
     "metadata": {},
     "output_type": "execute_result"
    }
   ],
   "source": [
    "def strip_to_text(html_content):\n",
    "    # List of punctuation characters to remove\n",
    "    punctuation = '!\"#$%&\\'()*+,-./:;<=>?@[\\\\]^_`{|}~'\n",
    "\n",
    "    # Using regular expressions to remove HTML tags and URLs\n",
    "    text = re.sub('<[^<]+?>', '', html_content)   # Remove HTML tags\n",
    "    text = re.sub(r'http\\S+', '', text)           # Remove URLs\n",
    "\n",
    "    # Removing punctuation\n",
    "    text = text.translate(str.maketrans('', '', punctuation))\n",
    "\n",
    "    # Removing tabs and newline characters\n",
    "    text = text.replace('\\t', '').replace('\\n', '')\n",
    "\n",
    "    return text\n",
    "\n",
    "train['email_clean'] = train['email'].apply(strip_to_text)\n",
    "train['email_clean'][0]"
   ]
  },
  {
   "cell_type": "code",
   "execution_count": 42,
   "metadata": {},
   "outputs": [],
   "source": [
    "# def apply_sentiment_score(text):\n",
    "#     sentences = text.split('. ')\n",
    "#     words_in_sentences = [sent.split() for sent in sentences]\n",
    "#     scores = []\n",
    "#     for sentence in words_in_sentences:\n",
    "#         sentence_scores = []\n",
    "#         for wrd in sentence:\n",
    "#             try:\n",
    "#                 sentence_scores.append(sentiment_dict[wrd])\n",
    "#             except:\n",
    "#                 sentence_scores.append(0)\n",
    "#         if len(sentence_scores) == 0:\n",
    "#             scores.append(0)\n",
    "#         else:\n",
    "#             scores.append(np.mean(sentence_scores))\n",
    "#     if len(scores) == 0:\n",
    "#         return 0\n",
    "#     else:\n",
    "#         return np.mean(scores)"
   ]
  },
  {
   "cell_type": "code",
   "execution_count": 43,
   "metadata": {},
   "outputs": [],
   "source": [
    "# train['mean_sentiment'] = train['email_clean'].apply(apply_sentiment_score)"
   ]
  },
  {
   "cell_type": "code",
   "execution_count": 44,
   "metadata": {},
   "outputs": [],
   "source": [
    "# sns.histplot(data = train[train.spam == 0], x = 'mean_sentiment', stat = 'density', bins = 10, label = 'ham')\n",
    "# sns.histplot(data = train[train.spam == 1], x = 'mean_sentiment', stat = 'density', bins = 10, label = 'spam')\n",
    "\n",
    "# plt.axvline(np.mean(train[train.spam == 0].mean_sentiment), label = 'ham avg', color = 'blue')\n",
    "# plt.axvline(np.mean(train[train.spam == 1].mean_sentiment), label = 'spam avg', color = 'orange')\n",
    "\n",
    "\n",
    "# plt.legend()"
   ]
  },
  {
   "cell_type": "code",
   "execution_count": 45,
   "metadata": {},
   "outputs": [
    {
     "data": {
      "text/plain": [
       "30      0\n",
       "6101    0\n",
       "1564    0\n",
       "5149    0\n",
       "3250    0\n",
       "Name: spam, dtype: int64"
      ]
     },
     "execution_count": 45,
     "metadata": {},
     "output_type": "execute_result"
    }
   ],
   "source": [
    "train.sample(n = len(train), replace = False).head()['spam']"
   ]
  },
  {
   "cell_type": "code",
   "execution_count": 46,
   "metadata": {},
   "outputs": [
    {
     "data": {
      "text/html": [
       "<div>\n",
       "<style scoped>\n",
       "    .dataframe tbody tr th:only-of-type {\n",
       "        vertical-align: middle;\n",
       "    }\n",
       "\n",
       "    .dataframe tbody tr th {\n",
       "        vertical-align: top;\n",
       "    }\n",
       "\n",
       "    .dataframe thead th {\n",
       "        text-align: right;\n",
       "    }\n",
       "</style>\n",
       "<table border=\"1\" class=\"dataframe\">\n",
       "  <thead>\n",
       "    <tr style=\"text-align: right;\">\n",
       "      <th></th>\n",
       "      <th>id</th>\n",
       "      <th>subject</th>\n",
       "      <th>email</th>\n",
       "      <th>spam</th>\n",
       "      <th>length</th>\n",
       "      <th>head_body_count</th>\n",
       "      <th>email_clean</th>\n",
       "      <th>num_caps</th>\n",
       "    </tr>\n",
       "  </thead>\n",
       "  <tbody>\n",
       "    <tr>\n",
       "      <th>0</th>\n",
       "      <td>0</td>\n",
       "      <td>Subject: A&amp;L Daily to be auctioned in bankrupt...</td>\n",
       "      <td>URL: http://boingboing.net/#85534171\\n Date: N...</td>\n",
       "      <td>0</td>\n",
       "      <td>359</td>\n",
       "      <td>0</td>\n",
       "      <td>URL  Date Not supplied  Arts and Letters Daily...</td>\n",
       "      <td>22</td>\n",
       "    </tr>\n",
       "    <tr>\n",
       "      <th>1</th>\n",
       "      <td>1</td>\n",
       "      <td>Subject: Wired: \"Stronger ties between ISPs an...</td>\n",
       "      <td>URL: http://scriptingnews.userland.com/backiss...</td>\n",
       "      <td>0</td>\n",
       "      <td>278</td>\n",
       "      <td>0</td>\n",
       "      <td>URL  Date Wed 25 Sep 2002 153310 GMT  Wired1 S...</td>\n",
       "      <td>18</td>\n",
       "    </tr>\n",
       "    <tr>\n",
       "      <th>2</th>\n",
       "      <td>2</td>\n",
       "      <td>Subject: It's just too small                  ...</td>\n",
       "      <td>&lt;HTML&gt;\\n &lt;HEAD&gt;\\n &lt;/HEAD&gt;\\n &lt;BODY&gt;\\n &lt;FONT SIZ...</td>\n",
       "      <td>1</td>\n",
       "      <td>444</td>\n",
       "      <td>4</td>\n",
       "      <td>A man endowed with a 78 hammer is simply ...</td>\n",
       "      <td>51</td>\n",
       "    </tr>\n",
       "    <tr>\n",
       "      <th>3</th>\n",
       "      <td>3</td>\n",
       "      <td>Subject: liberal defnitions\\n</td>\n",
       "      <td>Depends on how much over spending vs. how much...</td>\n",
       "      <td>0</td>\n",
       "      <td>1500</td>\n",
       "      <td>0</td>\n",
       "      <td>Depends on how much over spending vs how much ...</td>\n",
       "      <td>26</td>\n",
       "    </tr>\n",
       "    <tr>\n",
       "      <th>4</th>\n",
       "      <td>4</td>\n",
       "      <td>Subject: RE: [ILUG] Newbie seeks advice - Suse...</td>\n",
       "      <td>hehe sorry but if you hit caps lock twice the ...</td>\n",
       "      <td>0</td>\n",
       "      <td>2018</td>\n",
       "      <td>0</td>\n",
       "      <td>hehe sorry but if you hit caps lock twice the ...</td>\n",
       "      <td>90</td>\n",
       "    </tr>\n",
       "    <tr>\n",
       "      <th>...</th>\n",
       "      <td>...</td>\n",
       "      <td>...</td>\n",
       "      <td>...</td>\n",
       "      <td>...</td>\n",
       "      <td>...</td>\n",
       "      <td>...</td>\n",
       "      <td>...</td>\n",
       "      <td>...</td>\n",
       "    </tr>\n",
       "    <tr>\n",
       "      <th>8343</th>\n",
       "      <td>8343</td>\n",
       "      <td>Subject: Re: ALSA (almost) made easy\\n</td>\n",
       "      <td>Thanks for this, I'm going to give them anothe...</td>\n",
       "      <td>0</td>\n",
       "      <td>2287</td>\n",
       "      <td>0</td>\n",
       "      <td>Thanks for this Im going to give them another ...</td>\n",
       "      <td>87</td>\n",
       "    </tr>\n",
       "    <tr>\n",
       "      <th>8344</th>\n",
       "      <td>8344</td>\n",
       "      <td>Subject: Re: Goodbye Global Warming\\n</td>\n",
       "      <td>Thanks for the link - I'm fascinated by archae...</td>\n",
       "      <td>0</td>\n",
       "      <td>6463</td>\n",
       "      <td>0</td>\n",
       "      <td>Thanks for the link  Im fascinated by archaeol...</td>\n",
       "      <td>167</td>\n",
       "    </tr>\n",
       "    <tr>\n",
       "      <th>8345</th>\n",
       "      <td>8345</td>\n",
       "      <td>Subject: hello\\n</td>\n",
       "      <td>WE NEED HELP.  We are a 14 year old fortune 50...</td>\n",
       "      <td>1</td>\n",
       "      <td>881</td>\n",
       "      <td>0</td>\n",
       "      <td>WE NEED HELP  We are a 14 year old fortune 500...</td>\n",
       "      <td>203</td>\n",
       "    </tr>\n",
       "    <tr>\n",
       "      <th>8346</th>\n",
       "      <td>8346</td>\n",
       "      <td>Subject: Your application is below. Expires Ju...</td>\n",
       "      <td>&lt;html&gt;\\n \\n \\n &lt;HEAD&gt; \\n &lt;META charset=3DUTF-8...</td>\n",
       "      <td>1</td>\n",
       "      <td>2723</td>\n",
       "      <td>7</td>\n",
       "      <td>Your application ...</td>\n",
       "      <td>371</td>\n",
       "    </tr>\n",
       "    <tr>\n",
       "      <th>8347</th>\n",
       "      <td>8347</td>\n",
       "      <td>Subject: Re: [SAtalk] CONFIDENTIAL\\n</td>\n",
       "      <td>On Wed, 2002-08-21 at 06:42, Craig R.Hughes wr...</td>\n",
       "      <td>0</td>\n",
       "      <td>863</td>\n",
       "      <td>0</td>\n",
       "      <td>On Wed 20020821 at 0642 Craig RHughes wrote  O...</td>\n",
       "      <td>37</td>\n",
       "    </tr>\n",
       "  </tbody>\n",
       "</table>\n",
       "<p>8348 rows × 8 columns</p>\n",
       "</div>"
      ],
      "text/plain": [
       "        id                                            subject  \\\n",
       "0        0  Subject: A&L Daily to be auctioned in bankrupt...   \n",
       "1        1  Subject: Wired: \"Stronger ties between ISPs an...   \n",
       "2        2  Subject: It's just too small                  ...   \n",
       "3        3                      Subject: liberal defnitions\\n   \n",
       "4        4  Subject: RE: [ILUG] Newbie seeks advice - Suse...   \n",
       "...    ...                                                ...   \n",
       "8343  8343             Subject: Re: ALSA (almost) made easy\\n   \n",
       "8344  8344              Subject: Re: Goodbye Global Warming\\n   \n",
       "8345  8345                                   Subject: hello\\n   \n",
       "8346  8346  Subject: Your application is below. Expires Ju...   \n",
       "8347  8347               Subject: Re: [SAtalk] CONFIDENTIAL\\n   \n",
       "\n",
       "                                                  email  spam  length  \\\n",
       "0     URL: http://boingboing.net/#85534171\\n Date: N...     0     359   \n",
       "1     URL: http://scriptingnews.userland.com/backiss...     0     278   \n",
       "2     <HTML>\\n <HEAD>\\n </HEAD>\\n <BODY>\\n <FONT SIZ...     1     444   \n",
       "3     Depends on how much over spending vs. how much...     0    1500   \n",
       "4     hehe sorry but if you hit caps lock twice the ...     0    2018   \n",
       "...                                                 ...   ...     ...   \n",
       "8343  Thanks for this, I'm going to give them anothe...     0    2287   \n",
       "8344  Thanks for the link - I'm fascinated by archae...     0    6463   \n",
       "8345  WE NEED HELP.  We are a 14 year old fortune 50...     1     881   \n",
       "8346  <html>\\n \\n \\n <HEAD> \\n <META charset=3DUTF-8...     1    2723   \n",
       "8347  On Wed, 2002-08-21 at 06:42, Craig R.Hughes wr...     0     863   \n",
       "\n",
       "      head_body_count                                        email_clean  \\\n",
       "0                   0  URL  Date Not supplied  Arts and Letters Daily...   \n",
       "1                   0  URL  Date Wed 25 Sep 2002 153310 GMT  Wired1 S...   \n",
       "2                   4       A man endowed with a 78 hammer is simply ...   \n",
       "3                   0  Depends on how much over spending vs how much ...   \n",
       "4                   0  hehe sorry but if you hit caps lock twice the ...   \n",
       "...               ...                                                ...   \n",
       "8343                0  Thanks for this Im going to give them another ...   \n",
       "8344                0  Thanks for the link  Im fascinated by archaeol...   \n",
       "8345                0  WE NEED HELP  We are a 14 year old fortune 500...   \n",
       "8346                7                               Your application ...   \n",
       "8347                0  On Wed 20020821 at 0642 Craig RHughes wrote  O...   \n",
       "\n",
       "      num_caps  \n",
       "0           22  \n",
       "1           18  \n",
       "2           51  \n",
       "3           26  \n",
       "4           90  \n",
       "...        ...  \n",
       "8343        87  \n",
       "8344       167  \n",
       "8345       203  \n",
       "8346       371  \n",
       "8347        37  \n",
       "\n",
       "[8348 rows x 8 columns]"
      ]
     },
     "execution_count": 46,
     "metadata": {},
     "output_type": "execute_result"
    }
   ],
   "source": [
    "def count_capitals(text):\n",
    "    count = 0\n",
    "    for char in text:\n",
    "        if char.isupper():\n",
    "            count += 1\n",
    "    return count\n",
    "\n",
    "train['num_caps'] = train['email'].apply(count_capitals)\n",
    "train"
   ]
  },
  {
   "cell_type": "code",
   "execution_count": 47,
   "metadata": {},
   "outputs": [],
   "source": [
    "def mean_diff(df, feature):\n",
    "    return np.mean(df[df.shuffled_spam == 0][feature]) - np.mean(df[df.shuffled_spam == 1][feature])\n",
    "\n",
    "def shuffle_and_result(df, feature):\n",
    "    new_label = 'shuffled_spam'\n",
    "    df[new_label] = df.sample(n = len(df), replace = False)['spam'].values\n",
    "    return df[['spam', new_label, feature]]\n",
    "\n",
    "def ab_testing(df, feature):\n",
    "    h0 = np.mean(df[df.spam == 0][feature]) - np.mean(df[df.spam == 1][feature])\n",
    "    diffs = []\n",
    "    for el in range(1000):\n",
    "        s_df = shuffle_and_result(df, feature)\n",
    "        diffs.append(mean_diff(s_df, feature))\n",
    "    # plt.hist(diffs)\n",
    "    # plt.axvline(h0)\n",
    "    p_value = np.mean(h0 > diffs)\n",
    "    print(\"P Value for \" + feature + \" \" + str(p_value))\n",
    "    return diffs, h0\n",
    "\n",
    "# diffs, h0 = ab_testing(train, 'mean_sentiment')"
   ]
  },
  {
   "cell_type": "code",
   "execution_count": 48,
   "metadata": {},
   "outputs": [
    {
     "name": "stdout",
     "output_type": "stream",
     "text": [
      "P Value for length 0.0\n"
     ]
    }
   ],
   "source": [
    "diffs, h0 = ab_testing(train, 'length')"
   ]
  },
  {
   "cell_type": "code",
   "execution_count": 49,
   "metadata": {},
   "outputs": [
    {
     "data": {
      "text/html": [
       "<div>\n",
       "<style scoped>\n",
       "    .dataframe tbody tr th:only-of-type {\n",
       "        vertical-align: middle;\n",
       "    }\n",
       "\n",
       "    .dataframe tbody tr th {\n",
       "        vertical-align: top;\n",
       "    }\n",
       "\n",
       "    .dataframe thead th {\n",
       "        text-align: right;\n",
       "    }\n",
       "</style>\n",
       "<table border=\"1\" class=\"dataframe\">\n",
       "  <thead>\n",
       "    <tr style=\"text-align: right;\">\n",
       "      <th></th>\n",
       "      <th>id</th>\n",
       "      <th>subject</th>\n",
       "      <th>email</th>\n",
       "      <th>spam</th>\n",
       "      <th>length</th>\n",
       "      <th>head_body_count</th>\n",
       "      <th>email_clean</th>\n",
       "      <th>num_caps</th>\n",
       "      <th>shuffled_spam</th>\n",
       "      <th>num_punc</th>\n",
       "    </tr>\n",
       "  </thead>\n",
       "  <tbody>\n",
       "    <tr>\n",
       "      <th>0</th>\n",
       "      <td>0</td>\n",
       "      <td>Subject: A&amp;L Daily to be auctioned in bankrupt...</td>\n",
       "      <td>URL: http://boingboing.net/#85534171\\n Date: N...</td>\n",
       "      <td>0</td>\n",
       "      <td>359</td>\n",
       "      <td>0</td>\n",
       "      <td>URL  Date Not supplied  Arts and Letters Daily...</td>\n",
       "      <td>22</td>\n",
       "      <td>1</td>\n",
       "      <td>41</td>\n",
       "    </tr>\n",
       "    <tr>\n",
       "      <th>1</th>\n",
       "      <td>1</td>\n",
       "      <td>Subject: Wired: \"Stronger ties between ISPs an...</td>\n",
       "      <td>URL: http://scriptingnews.userland.com/backiss...</td>\n",
       "      <td>0</td>\n",
       "      <td>278</td>\n",
       "      <td>0</td>\n",
       "      <td>URL  Date Wed 25 Sep 2002 153310 GMT  Wired1 S...</td>\n",
       "      <td>18</td>\n",
       "      <td>1</td>\n",
       "      <td>40</td>\n",
       "    </tr>\n",
       "    <tr>\n",
       "      <th>2</th>\n",
       "      <td>2</td>\n",
       "      <td>Subject: It's just too small                  ...</td>\n",
       "      <td>&lt;HTML&gt;\\n &lt;HEAD&gt;\\n &lt;/HEAD&gt;\\n &lt;BODY&gt;\\n &lt;FONT SIZ...</td>\n",
       "      <td>1</td>\n",
       "      <td>444</td>\n",
       "      <td>4</td>\n",
       "      <td>A man endowed with a 78 hammer is simply ...</td>\n",
       "      <td>51</td>\n",
       "      <td>1</td>\n",
       "      <td>66</td>\n",
       "    </tr>\n",
       "    <tr>\n",
       "      <th>3</th>\n",
       "      <td>3</td>\n",
       "      <td>Subject: liberal defnitions\\n</td>\n",
       "      <td>Depends on how much over spending vs. how much...</td>\n",
       "      <td>0</td>\n",
       "      <td>1500</td>\n",
       "      <td>0</td>\n",
       "      <td>Depends on how much over spending vs how much ...</td>\n",
       "      <td>26</td>\n",
       "      <td>0</td>\n",
       "      <td>71</td>\n",
       "    </tr>\n",
       "    <tr>\n",
       "      <th>4</th>\n",
       "      <td>4</td>\n",
       "      <td>Subject: RE: [ILUG] Newbie seeks advice - Suse...</td>\n",
       "      <td>hehe sorry but if you hit caps lock twice the ...</td>\n",
       "      <td>0</td>\n",
       "      <td>2018</td>\n",
       "      <td>0</td>\n",
       "      <td>hehe sorry but if you hit caps lock twice the ...</td>\n",
       "      <td>90</td>\n",
       "      <td>1</td>\n",
       "      <td>127</td>\n",
       "    </tr>\n",
       "  </tbody>\n",
       "</table>\n",
       "</div>"
      ],
      "text/plain": [
       "   id                                            subject  \\\n",
       "0   0  Subject: A&L Daily to be auctioned in bankrupt...   \n",
       "1   1  Subject: Wired: \"Stronger ties between ISPs an...   \n",
       "2   2  Subject: It's just too small                  ...   \n",
       "3   3                      Subject: liberal defnitions\\n   \n",
       "4   4  Subject: RE: [ILUG] Newbie seeks advice - Suse...   \n",
       "\n",
       "                                               email  spam  length  \\\n",
       "0  URL: http://boingboing.net/#85534171\\n Date: N...     0     359   \n",
       "1  URL: http://scriptingnews.userland.com/backiss...     0     278   \n",
       "2  <HTML>\\n <HEAD>\\n </HEAD>\\n <BODY>\\n <FONT SIZ...     1     444   \n",
       "3  Depends on how much over spending vs. how much...     0    1500   \n",
       "4  hehe sorry but if you hit caps lock twice the ...     0    2018   \n",
       "\n",
       "   head_body_count                                        email_clean  \\\n",
       "0                0  URL  Date Not supplied  Arts and Letters Daily...   \n",
       "1                0  URL  Date Wed 25 Sep 2002 153310 GMT  Wired1 S...   \n",
       "2                4       A man endowed with a 78 hammer is simply ...   \n",
       "3                0  Depends on how much over spending vs how much ...   \n",
       "4                0  hehe sorry but if you hit caps lock twice the ...   \n",
       "\n",
       "   num_caps  shuffled_spam  num_punc  \n",
       "0        22              1        41  \n",
       "1        18              1        40  \n",
       "2        51              1        66  \n",
       "3        26              0        71  \n",
       "4        90              1       127  "
      ]
     },
     "execution_count": 49,
     "metadata": {},
     "output_type": "execute_result"
    }
   ],
   "source": [
    "pattern = r'[!\"#$%&\\'()*+,-./:;<=>?@\\[\\\\\\]^_`{|}~]'\n",
    "\n",
    "# patten = r'[!?;#$&]'\n",
    "\n",
    "train['num_punc'] = train['email'].apply(lambda x: len(re.findall(pattern, x)))\n",
    "train.head()"
   ]
  },
  {
   "cell_type": "code",
   "execution_count": 50,
   "metadata": {},
   "outputs": [
    {
     "name": "stdout",
     "output_type": "stream",
     "text": [
      "P Value for cap_ratio 0.0\n"
     ]
    }
   ],
   "source": [
    "def cap_ratio(text):\n",
    "    count = 0\n",
    "    for char in text:\n",
    "        if char.isupper() == True:\n",
    "            count += 1\n",
    "    return count/len(text)\n",
    "\n",
    "train['cap_ratio'] = train.email.apply(cap_ratio)\n",
    "\n",
    "diff, h0 = ab_testing(train, 'cap_ratio')"
   ]
  },
  {
   "cell_type": "code",
   "execution_count": 51,
   "metadata": {},
   "outputs": [
    {
     "name": "stdout",
     "output_type": "stream",
     "text": [
      "5175    0\n",
      "Name: spam, dtype: int64\n",
      "On 4 Aug 2002 the voices made Scott A Crosby write:\n",
      " \n",
      " > On Sun, 4 Aug 2002 16:36:57 +0200 (CEST), \"Tony L. Svanstrom\"\n",
      " > <tony@svanstrom.com> writes:\n",
      " >\n",
      " > > On Sun, 4 Aug 2002 the voices made Tony L. Svanstrom write:\n",
      " > >\n",
      " > >  The solution is of course to have a public key of some sort associated with\n",
      " > > the domainame itself, at the registrar-level, so that when an e-mail arrives\n",
      " > > the server can check if the sending-server actually is responsible for the\n",
      " > > domain/user the e-mail appears to have been sent from.\n",
      " > >\n",
      " >\n",
      " > That can be problematic.. For example, if I'm at home and want to send\n",
      " > email out from my work-address; I can't go through my ISP's\n",
      " > mailserver.. I don't thikn we want to enforce a link linking an email\n",
      " > address and the server sending it; there are many reasons to have the\n",
      " > two things be different entities.\n",
      " \n",
      "  True, but that's the thinking of today, that the company mailserver can be\n",
      " closed to you from the outside; because as it is today you can use any mail-\n",
      " server that you've got access to. If there's a good reason for setting it up\n",
      " they won't be that lazy in the future.\n",
      " \n",
      " > However, requiring mailservers to sign the Received: header...  That\n",
      " > could be useful. (assuming the signature is of reasonable size). That\n",
      " > could indicate at what server the email *did* enter the system. IT'd\n",
      " > also be incontravertable proof that that mailserver did allow itself\n",
      " > to be abused. Signatures could be checked by either MX or inaddr-arpa\n",
      " > records indicating the host's public key.\n",
      " >\n",
      " > There's still some problems left though. You'd have to bind the\n",
      " > headers to the message somehow, via signatures. (To avoid someone\n",
      " > taking an email then twiddling the body and claiming that spam came\n",
      " > from a particular host.) This would mean that you couldn't alter the\n",
      " > body of a message.\n",
      " >\n",
      " > An unforgable Received chain would be very useful evidence.\n",
      " \n",
      "  A simple RFC could fix that today, either using a new header or extending the\n",
      " Received-header with a code/value that the server later on can verify; maybe\n",
      " something like this:\n",
      " \n",
      " Received2: Date: [date];\n",
      " \tLocal: sub.dom2.tld (IP#2);\n",
      " \tRemote: sub.dom3.tld (IP#3);\n",
      " \tEnv-id: <the.usual.stuff@sub.dom1.tld>\n",
      " \tCode: [cache#, salted hashvalue, rsa or other signature]\n",
      " \n",
      "  And then you have the two optional From and To, only added by the sending\n",
      " server that's identified the local sender or the server accepting mail for a\n",
      " certain user (to verify that it did really come via that server, in case you\n",
      " forward it using procmail or something like it).\n",
      "  You of course would need some standard for how to check these headers.\n",
      " \n",
      "  Not perfect, but better than what we have today.\n",
      " \n",
      " \n",
      " \t/Tony\n",
      " -- \n",
      " # Per scientiam ad libertatem! // Through knowledge towards freedom! #\n",
      " # Genom kunskap mot frihet! =*= (c) 1999-2002 tony@svanstrom.com =*= #\n",
      " \n",
      "     perl -e'print$_{$_} for sort%_=`lynx -source svanstrom.com/t`'\n",
      " \n",
      " \n",
      " \n",
      " \n",
      " \n",
      " \n",
      " -------------------------------------------------------\n",
      " This sf.net email is sponsored by:ThinkGeek\n",
      " Welcome to geek heaven.\n",
      " http://thinkgeek.com/sf\n",
      " _______________________________________________\n",
      " Spamassassin-talk mailing list\n",
      " Spamassassin-talk@lists.sourceforge.net\n",
      " https://lists.sourceforge.net/lists/listinfo/spamassassin-talk\n",
      " \n",
      " \n",
      "\n"
     ]
    },
    {
     "data": {
      "text/plain": [
       "[None]"
      ]
     },
     "execution_count": 51,
     "metadata": {},
     "output_type": "execute_result"
    }
   ],
   "source": [
    "bruh = train.sample(n = 1)\n",
    "email = bruh.email\n",
    "print(bruh.spam)\n",
    "[print(el) for el in email]"
   ]
  },
  {
   "cell_type": "code",
   "execution_count": 52,
   "metadata": {},
   "outputs": [
    {
     "data": {
      "text/plain": [
       "0.8274706867671692"
      ]
     },
     "execution_count": 52,
     "metadata": {},
     "output_type": "execute_result"
    }
   ],
   "source": [
    "len(train.iloc[1234, :].email_clean)/(len(train.iloc[1234, :].email))"
   ]
  },
  {
   "cell_type": "code",
   "execution_count": 53,
   "metadata": {},
   "outputs": [
    {
     "data": {
      "text/html": [
       "<div>\n",
       "<style scoped>\n",
       "    .dataframe tbody tr th:only-of-type {\n",
       "        vertical-align: middle;\n",
       "    }\n",
       "\n",
       "    .dataframe tbody tr th {\n",
       "        vertical-align: top;\n",
       "    }\n",
       "\n",
       "    .dataframe thead th {\n",
       "        text-align: right;\n",
       "    }\n",
       "</style>\n",
       "<table border=\"1\" class=\"dataframe\">\n",
       "  <thead>\n",
       "    <tr style=\"text-align: right;\">\n",
       "      <th></th>\n",
       "      <th>id</th>\n",
       "      <th>subject</th>\n",
       "      <th>email</th>\n",
       "      <th>spam</th>\n",
       "      <th>length</th>\n",
       "      <th>head_body_count</th>\n",
       "      <th>email_clean</th>\n",
       "      <th>num_caps</th>\n",
       "      <th>shuffled_spam</th>\n",
       "      <th>num_punc</th>\n",
       "      <th>cap_ratio</th>\n",
       "      <th>junk_char_ratio</th>\n",
       "    </tr>\n",
       "  </thead>\n",
       "  <tbody>\n",
       "    <tr>\n",
       "      <th>0</th>\n",
       "      <td>0</td>\n",
       "      <td>Subject: A&amp;L Daily to be auctioned in bankrupt...</td>\n",
       "      <td>URL: http://boingboing.net/#85534171\\n Date: N...</td>\n",
       "      <td>0</td>\n",
       "      <td>359</td>\n",
       "      <td>0</td>\n",
       "      <td>URL  Date Not supplied  Arts and Letters Daily...</td>\n",
       "      <td>22</td>\n",
       "      <td>0</td>\n",
       "      <td>41</td>\n",
       "      <td>0.061281</td>\n",
       "      <td>0.632312</td>\n",
       "    </tr>\n",
       "    <tr>\n",
       "      <th>1</th>\n",
       "      <td>1</td>\n",
       "      <td>Subject: Wired: \"Stronger ties between ISPs an...</td>\n",
       "      <td>URL: http://scriptingnews.userland.com/backiss...</td>\n",
       "      <td>0</td>\n",
       "      <td>278</td>\n",
       "      <td>0</td>\n",
       "      <td>URL  Date Wed 25 Sep 2002 153310 GMT  Wired1 S...</td>\n",
       "      <td>18</td>\n",
       "      <td>0</td>\n",
       "      <td>40</td>\n",
       "      <td>0.064748</td>\n",
       "      <td>0.482014</td>\n",
       "    </tr>\n",
       "    <tr>\n",
       "      <th>2</th>\n",
       "      <td>2</td>\n",
       "      <td>Subject: It's just too small                  ...</td>\n",
       "      <td>&lt;HTML&gt;\\n &lt;HEAD&gt;\\n &lt;/HEAD&gt;\\n &lt;BODY&gt;\\n &lt;FONT SIZ...</td>\n",
       "      <td>1</td>\n",
       "      <td>444</td>\n",
       "      <td>4</td>\n",
       "      <td>A man endowed with a 78 hammer is simply ...</td>\n",
       "      <td>51</td>\n",
       "      <td>1</td>\n",
       "      <td>66</td>\n",
       "      <td>0.114865</td>\n",
       "      <td>0.608108</td>\n",
       "    </tr>\n",
       "    <tr>\n",
       "      <th>3</th>\n",
       "      <td>3</td>\n",
       "      <td>Subject: liberal defnitions\\n</td>\n",
       "      <td>Depends on how much over spending vs. how much...</td>\n",
       "      <td>0</td>\n",
       "      <td>1500</td>\n",
       "      <td>0</td>\n",
       "      <td>Depends on how much over spending vs how much ...</td>\n",
       "      <td>26</td>\n",
       "      <td>0</td>\n",
       "      <td>71</td>\n",
       "      <td>0.017333</td>\n",
       "      <td>0.925333</td>\n",
       "    </tr>\n",
       "    <tr>\n",
       "      <th>4</th>\n",
       "      <td>4</td>\n",
       "      <td>Subject: RE: [ILUG] Newbie seeks advice - Suse...</td>\n",
       "      <td>hehe sorry but if you hit caps lock twice the ...</td>\n",
       "      <td>0</td>\n",
       "      <td>2018</td>\n",
       "      <td>0</td>\n",
       "      <td>hehe sorry but if you hit caps lock twice the ...</td>\n",
       "      <td>90</td>\n",
       "      <td>0</td>\n",
       "      <td>127</td>\n",
       "      <td>0.044599</td>\n",
       "      <td>0.873637</td>\n",
       "    </tr>\n",
       "  </tbody>\n",
       "</table>\n",
       "</div>"
      ],
      "text/plain": [
       "   id                                            subject  \\\n",
       "0   0  Subject: A&L Daily to be auctioned in bankrupt...   \n",
       "1   1  Subject: Wired: \"Stronger ties between ISPs an...   \n",
       "2   2  Subject: It's just too small                  ...   \n",
       "3   3                      Subject: liberal defnitions\\n   \n",
       "4   4  Subject: RE: [ILUG] Newbie seeks advice - Suse...   \n",
       "\n",
       "                                               email  spam  length  \\\n",
       "0  URL: http://boingboing.net/#85534171\\n Date: N...     0     359   \n",
       "1  URL: http://scriptingnews.userland.com/backiss...     0     278   \n",
       "2  <HTML>\\n <HEAD>\\n </HEAD>\\n <BODY>\\n <FONT SIZ...     1     444   \n",
       "3  Depends on how much over spending vs. how much...     0    1500   \n",
       "4  hehe sorry but if you hit caps lock twice the ...     0    2018   \n",
       "\n",
       "   head_body_count                                        email_clean  \\\n",
       "0                0  URL  Date Not supplied  Arts and Letters Daily...   \n",
       "1                0  URL  Date Wed 25 Sep 2002 153310 GMT  Wired1 S...   \n",
       "2                4       A man endowed with a 78 hammer is simply ...   \n",
       "3                0  Depends on how much over spending vs how much ...   \n",
       "4                0  hehe sorry but if you hit caps lock twice the ...   \n",
       "\n",
       "   num_caps  shuffled_spam  num_punc  cap_ratio  junk_char_ratio  \n",
       "0        22              0        41   0.061281         0.632312  \n",
       "1        18              0        40   0.064748         0.482014  \n",
       "2        51              1        66   0.114865         0.608108  \n",
       "3        26              0        71   0.017333         0.925333  \n",
       "4        90              0       127   0.044599         0.873637  "
      ]
     },
     "execution_count": 53,
     "metadata": {},
     "output_type": "execute_result"
    }
   ],
   "source": [
    "def junk_char_ratio(row):\n",
    "    return len(row.email_clean)/len(row.email)\n",
    "\n",
    "train['junk_char_ratio'] = train.apply(lambda row: junk_char_ratio(row), axis = 1)\n",
    "train.head()"
   ]
  },
  {
   "cell_type": "code",
   "execution_count": 54,
   "metadata": {},
   "outputs": [
    {
     "name": "stdout",
     "output_type": "stream",
     "text": [
      "P Value for junk_char_ratio 1.0\n"
     ]
    }
   ],
   "source": [
    "diffs, h0 = ab_testing(train, 'junk_char_ratio')"
   ]
  },
  {
   "cell_type": "code",
   "execution_count": 55,
   "metadata": {},
   "outputs": [
    {
     "data": {
      "text/plain": [
       "Index(['Free', 'Ad', 'Offer', 'Credit', 'Save', 'Click here', 'Guaranteed',\n",
       "       'Money', 'Rates', 'Special', 'Refinance', 'Debt', 'Cash', 'Quote',\n",
       "       'Easy', 'Loans', 'Secret', 'Limited', 'Removal', 'Promotion',\n",
       "       'num_punc', 'junk_char_ratio', 'is_reply', 'cap_ratio'],\n",
       "      dtype='object')"
      ]
     },
     "execution_count": 55,
     "metadata": {},
     "output_type": "execute_result"
    }
   ],
   "source": [
    "X_train.columns"
   ]
  },
  {
   "cell_type": "code",
   "execution_count": 56,
   "metadata": {},
   "outputs": [
    {
     "name": "stdout",
     "output_type": "stream",
     "text": [
      "P Value for Free 0.0\n",
      "P Value for Ad 0.0\n",
      "P Value for Offer 0.0\n",
      "P Value for Credit 0.0\n",
      "P Value for Save 0.0\n",
      "P Value for Click here 0.0\n",
      "P Value for Guaranteed 0.0\n",
      "P Value for Money 0.0\n",
      "P Value for Rates 0.0\n",
      "P Value for Special 0.0\n",
      "P Value for Refinance 0.0\n",
      "P Value for Debt 0.0\n",
      "P Value for Cash 0.0\n",
      "P Value for Quote 0.0\n",
      "P Value for Easy 0.0\n",
      "P Value for Loans 0.0\n",
      "P Value for Secret 0.0\n",
      "P Value for Limited 0.0\n",
      "P Value for Removal 0.0\n",
      "P Value for Promotion 0.0\n",
      "P Value for num_punc 0.001\n",
      "P Value for junk_char_ratio 1.0\n",
      "P Value for is_reply 0.0\n",
      "P Value for cap_ratio 0.0\n"
     ]
    }
   ],
   "source": [
    "new_df = X_train.copy()\n",
    "new_df['spam'] = Y_train\n",
    "for col in X_train.columns:\n",
    "    ab_testing(new_df, col)"
   ]
  },
  {
   "cell_type": "code",
   "execution_count": 57,
   "metadata": {},
   "outputs": [
    {
     "name": "stdout",
     "output_type": "stream",
     "text": [
      "P Value for is_reply 0.0\n"
     ]
    }
   ],
   "source": [
    "def detect_reply(text):\n",
    "    if 'wrote:\\n \\n' in text:\n",
    "        return 0\n",
    "    else:\n",
    "        return 1\n",
    "\n",
    "train['is_reply'] = train.email.apply(detect_reply)\n",
    "diffs, h0 = ab_testing(train, 'is_reply')"
   ]
  },
  {
   "cell_type": "markdown",
   "metadata": {
    "deletable": false,
    "editable": false
   },
   "source": [
    "<!-- END QUESTION -->\n",
    "\n",
    "<!-- BEGIN QUESTION -->\n",
    "\n",
    "<br>\n",
    "\n",
    "---\n",
    "\n",
    "## Question 2b\n",
    "\n",
    "Write your commentary in the cell below.\n"
   ]
  },
  {
   "cell_type": "markdown",
   "metadata": {},
   "source": [
    "List of Features That I Implemented:\n",
    "1. Word selection\n",
    "2. Sentiment Analysis\n",
    "3. Number of puncutation symbols\n",
    "4. Number of extra characters that are not readable words : Total number of characters\n",
    "6. If an email is a reply\n",
    "7. Number of capital letters : Total number of characters"
   ]
  },
  {
   "cell_type": "markdown",
   "metadata": {},
   "source": [
    "#### Word Selection\n",
    "\n",
    "I wrote some code that randomly selects an emails and displays the contents. After a lot of re-running the cell, I found that most spam emails are usually trying to sell you something or click on a link. I generated a list of about 30 words that I found that came up and are associated with claiming some sort of prize, cash, or compensation. I sorted these words based on the difference between the percentage of times they show up in the spam versus ham emails.\n",
    "\n",
    "#### Sentiment Analysis:\n",
    "\n",
    "I used the vader_leixcon file from HW three to assess the mean sentiment score of each email. My approach was to average the total sentiment of each sentence. I formatted each email so that is removes all of the excess punctuation and URLs, and then I applied the sentiment analysis.\n",
    "\n",
    "#### Number of Punctuation Symbols:\n",
    "\n",
    "I summed the number of punctuation symbols in each email.\n",
    "\n",
    "#### Junk Character Ratio:\n",
    "\n",
    "Using each cleaned email, I calculated the number of characters in the cleaned email to the uncleaned email. This would highlight all of the extra stuff that's included in formatting a spam email.\n",
    "\n",
    "#### Reply Detection:\n",
    "I found that a lot of ham emails have a piece of text that tell who exactly sent an email. I used the syntax to detect ham emails, and implemented this as a True/False column. I could go deeper into this, but for now the model seems fine.\n",
    "\n",
    "#### Number of Capital Letters:\n",
    "Spam emails seem to have more capital letters, which might be used to attract the readers attention. I counted the number of captial letters in each email, and compared it to the total number of characters. This might highlight the junk characters/word that might be present in spam emails.\n",
    "\n",
    "\n",
    "## Feature Performance Analysis:\n",
    "\n",
    "I wrote some code that performs AB testing on each individual feature. I selected features that have statistically significant p-values to ensure each feature is distinct in their spam and ham performance."
   ]
  },
  {
   "cell_type": "markdown",
   "metadata": {
    "deletable": false,
    "editable": false
   },
   "source": [
    "<!-- END QUESTION -->\n",
    "\n",
    "<!-- BEGIN QUESTION -->\n",
    "\n",
    "<br>\n",
    "\n",
    "---\n",
    "\n",
    "## Question 3: ROC Curve\n",
    "\n",
    "In most cases, we won't be able to get 0 false positives and 0 false negatives, so we have to compromise. For example, in the case of cancer screenings, false negatives are comparatively worse than false positives — a false negative means that a patient might not discover that they have cancer until it's too late. In contrast, a patient can receive another screening for a false positive.\n",
    "\n",
    "Recall that logistic regression calculates the probability that an example belongs to a particular class. To classify an example, we say that an email is spam if our classifier gives it $\\ge 0.5$ probability of being spam. However, **we can adjust that cutoff threshold**: We can say that an email is spam only if our classifier gives it $\\ge 0.7$ probability of being spam, for example. This is how we can trade off false positives and false negatives.\n",
    "\n",
    "The Receiver Operating Characteristic (ROC) curve shows this trade-off for each possible cutoff probability. In the cell below, plot an ROC curve for your final classifier (the one you use to make predictions for Gradescope) on the training data. Refer to Lecture 23 to see how to plot an ROC curve.\n",
    "\n",
    "**Hint**: You'll want to use the `.predict_proba` method for your classifier instead of `.predict` to get probabilities instead of binary predictions.\n"
   ]
  },
  {
   "cell_type": "code",
   "execution_count": 58,
   "metadata": {
    "tags": []
   },
   "outputs": [
    {
     "data": {
      "image/png": "[encoded data removed]",
      "text/plain": [
       "<Figure size 640x480 with 1 Axes>"
      ]
     },
     "metadata": {},
     "output_type": "display_data"
    }
   ],
   "source": [
    "from sklearn import metrics\n",
    "\n",
    "#define metrics\n",
    "y_pred_proba = model.predict_proba(X_train)[::,1]\n",
    "fpr, tpr, _ = metrics.roc_curve(Y_train,  y_pred_proba)\n",
    "\n",
    "#create ROC curve\n",
    "plt.plot(fpr,tpr, label = 'model performance')\n",
    "\n",
    "x = np.arange(0, 1, 0.01)\n",
    "x_ideal = [0, 0, 1]\n",
    "y_ideal = [0, 1, 1]\n",
    "\n",
    "plt.plot(x, x, color = 'red', label = 'random case')\n",
    "plt.plot(x_ideal, y_ideal, color = 'green', label = 'best case')\n",
    "\n",
    "plt.ylabel('True Positive Rate')\n",
    "plt.xlabel('False Positive Rate')\n",
    "plt.legend()\n",
    "plt.show()"
   ]
  },
  {
   "cell_type": "markdown",
   "metadata": {
    "deletable": false,
    "editable": false,
    "tags": []
   },
   "source": [
    "<!-- END QUESTION -->\n",
    "\n",
    "<br/>\n",
    "<hr style=\"border: 1px solid #fdb515;\" />\n",
    "\n",
    "# Question 4\n",
    "\n",
    "### Grading Scheme\n",
    "\n",
    "Your grade for Question 4 will be based on your model’s accuracy when making predictions on the training set and your model’s accuracy when making predictions on the test set. The tables below provide scoring guidelines. If your accuracy lies in a particular range, you will receive the number of points associated with that range.\n",
    "\r",
    "**Important**: While your training accuracy can be checked at any time in this notebook, your test accuracy can only be checked by submitting your model’s predictions to Gradescope. **You may only submit to Gradescope 3 times per day to meet the threshold**. In the case that you are approved for an extension, you are granted 3 more submissions for each day the deadline has been extended. Plan ahead to make sure you have enough time to fine-tune your model! The thresholds are as follows:\n",
    "\n",
    "Points | 5 | 3 | 1.5 | 0\n",
    "--- | --- | --- | --- | ---\n",
    "**Training** Accuracy | 85% and Above | \\[80, 85) | \\[70, 80) | Below 70%\n",
    "\n",
    "Points | 10 | 6 | 3 | 0\n",
    "--- | --- | --- | --- | ---\n",
    "**Testing** Accuracy | 85% and Above | \\[80, 85) | \\[70, 80) | Below 70%\n",
    "\n",
    "\n",
    "<br><br>\n",
    "\n",
    "---\n",
    "\n",
    "## Question 4a: Train Predictions\n",
    "Assign your predictions for the class of each data point in the training set `train` to the variable `train_predictions`."
   ]
  },
  {
   "cell_type": "code",
   "execution_count": 59,
   "metadata": {
    "ExecuteTime": {
     "end_time": "2019-04-02T00:27:38.650695Z",
     "start_time": "2019-04-02T00:27:38.469233Z"
    },
    "nbgrader": {
     "grade": false,
     "grade_id": "q10-answer",
     "locked": false,
     "schema_version": 2,
     "solution": true
    },
    "tags": []
   },
   "outputs": [
    {
     "data": {
      "text/plain": [
       "0.860804983229516"
      ]
     },
     "execution_count": 59,
     "metadata": {},
     "output_type": "execute_result"
    }
   ],
   "source": [
    "train_predictions = model.predict(X_train)\n",
    "\n",
    "# print your training accuracy \n",
    "training_accuracy = np.mean(train_predictions == train[\"spam\"])\n",
    "training_accuracy"
   ]
  },
  {
   "cell_type": "code",
   "execution_count": 60,
   "metadata": {
    "deletable": false,
    "editable": false
   },
   "outputs": [
    {
     "data": {
      "text/html": [
       "<p><strong><pre style='display: inline;'>q4a</pre></strong> passed! 🙌</p>"
      ],
      "text/plain": [
       "q4a results: All test cases passed!"
      ]
     },
     "execution_count": 60,
     "metadata": {},
     "output_type": "execute_result"
    }
   ],
   "source": [
    "grader.check(\"q4a\")"
   ]
  },
  {
   "cell_type": "markdown",
   "metadata": {
    "deletable": false,
    "editable": false,
    "tags": []
   },
   "source": [
    "<br>\n",
    "\n",
    "---\n",
    "\n",
    "## Question 4b: Test Set Predictions\n",
    "\n",
    "The following code will write your predictions on the test dataset to a CSV file. **You will need to submit this file to the \"Project B2 Test Set Predictions\" assignment on Gradescope to get credit for this question.**\n",
    "\n",
    "Assign your predictions for the class of each data point in the test set `test` to a 1-dimensional array called `test_predictions`. **Please make sure you save your predictions to `test_predictions`, as this is how part of your score for this question will be determined.**\n",
    "\n",
    "**Remember that if you've performed transformations or featurization on the training data, you must also perform the same transformations on the test data in order to make predictions.** For example, if you've created features for the words \"drug\" and \"money\" on the training data, you must also extract the same features in order to use scikit-learn's `.predict(...)` method.\n",
    "\n",
    "**Gradescope limits you to 3 submissions per day to meet the threshold.** In the case that you are approved for an extension, you are granted 3 more submissions for each day the deadline has been extended.\n",
    "\n",
    "The provided tests check that your predictions are in the correct format but are worth 0 points in the *Project B2 Coding assignment*. You must additionally submit to the *Project B2 Test Set Predictions* assignment to evaluate your classifier accuracy."
   ]
  },
  {
   "cell_type": "code",
   "execution_count": 61,
   "metadata": {
    "ExecuteTime": {
     "end_time": "2019-04-02T00:27:38.650695Z",
     "start_time": "2019-04-02T00:27:38.469233Z"
    },
    "nbgrader": {
     "grade": false,
     "grade_id": "q10-answer",
     "locked": false,
     "schema_version": 2,
     "solution": true
    },
    "tags": []
   },
   "outputs": [],
   "source": [
    "test = pd.read_csv('test.csv')\n",
    "\n",
    "X_test = get_X(test)\n",
    "\n",
    "test_predictions = model.predict(X_test)"
   ]
  },
  {
   "cell_type": "code",
   "execution_count": 62,
   "metadata": {
    "deletable": false,
    "editable": false
   },
   "outputs": [
    {
     "data": {
      "text/html": [
       "<p><strong><pre style='display: inline;'>q4b</pre></strong> passed! 💯</p>"
      ],
      "text/plain": [
       "q4b results: All test cases passed!"
      ]
     },
     "execution_count": 62,
     "metadata": {},
     "output_type": "execute_result"
    }
   ],
   "source": [
    "grader.check(\"q4b\")"
   ]
  },
  {
   "cell_type": "markdown",
   "metadata": {
    "nbgrader": {
     "grade": false,
     "grade_id": "cell-d15e30e2a961277d",
     "locked": true,
     "schema_version": 2,
     "solution": false
    }
   },
   "source": [
    "The following cell generates a CSV file with your predictions. **You must submit this CSV file to the \"Project B2 Test Predictions\" assignment on Gradescope to get credit for this question.** You can only submit to Gradescope a maximum of 3 times per day, so please use your submissions wisely!"
   ]
  },
  {
   "cell_type": "code",
   "execution_count": 63,
   "metadata": {
    "ExecuteTime": {
     "end_time": "2019-04-02T00:27:39.986326Z",
     "start_time": "2019-04-02T00:27:38.385Z"
    },
    "nbgrader": {
     "grade": false,
     "grade_id": "cell-8dd1bfadcbe08b00",
     "locked": true,
     "schema_version": 2,
     "solution": false
    }
   },
   "outputs": [
    {
     "name": "stdout",
     "output_type": "stream",
     "text": [
      "Created a CSV file: submission_20231201_041706.csv.\n"
     ]
    },
    {
     "data": {
      "text/html": [
       "Download your test prediction <a href='submission_20231201_041706.csv' download>here</a>."
      ],
      "text/plain": [
       "<IPython.core.display.HTML object>"
      ]
     },
     "metadata": {},
     "output_type": "display_data"
    },
    {
     "name": "stdout",
     "output_type": "stream",
     "text": [
      "You may now upload this CSV file to Gradescope for scoring.\n"
     ]
    }
   ],
   "source": [
    "# Assuming that your predictions on the test set are stored in a 1-dimensional array called\n",
    "# test_predictions. Feel free to modify this cell as long you create a CSV in the right format.\n",
    "\n",
    "# Construct and save the submission:\n",
    "submission_df = pd.DataFrame({\n",
    "    \"Id\": test['id'], \n",
    "    \"Class\": test_predictions,\n",
    "}, columns=['Id', 'Class'])\n",
    "timestamp = datetime.now().strftime(\"%Y%m%d_%H%M%S\")\n",
    "filename = \"submission_{}.csv\".format(timestamp)\n",
    "submission_df.to_csv(filename, index=False)\n",
    "\n",
    "print('Created a CSV file: {}.'.format(\"submission_{}.csv\".format(timestamp)))\n",
    "display(HTML(\"Download your test prediction <a href='\" + filename + \"' download>here</a>.\"))\n",
    "print('You may now upload this CSV file to Gradescope for scoring.')#"
   ]
  },
  {
   "cell_type": "markdown",
   "metadata": {},
   "source": [
    "<br/><br/>\n",
    "<hr style=\"border: 5px solid #003262;\" />\n",
    "<hr style=\"border: 1px solid #fdb515;\" />\n",
    "\n",
    "## Mila congratulates you for finishing Project B2!\n",
    "\n",
    "![](mila.jpeg)\n",
    "\n",
    "Below, you will see two cells. Running the first cell will automatically generate a PDF of all questions that need to be manually graded, and running the second cell will automatically generate a zip with your autograded answers. **You are responsible for both the coding portion (the zip from Project B2) and the written portion (the PDF with from Project B2) to their respective Gradescope portals and checking that they are the most recent copy or the copy you wish to submit (including plots and all written answers).** The coding proportion should be submitted to Project B2 Coding as a single zip file, and the written portion should be submitted to Project B2 Written as a single pdf file. When submitting the written portion, please ensure you select pages appropriately. In addition, you must submit your test prediction in Q4b to **Project B2 Test Set Predictions** for the corresponding points. \n",
    "\n",
    "If there are issues with automatically generating the PDF in the first cell, you can try downloading the notebook as a PDF by clicking on `File -> Save and Export Notebook As... -> PDF`. If that doesn't work either, you can manually take screenshots of your answers to the manually graded questions and submit those. Either way, **you are responsible for ensuring your submission follows our requirements, we will NOT be granting regrade requests for submissions that don't follow instructions.**"
   ]
  },
  {
   "cell_type": "markdown",
   "metadata": {
    "deletable": false,
    "editable": false
   },
   "source": [
    "## Submission\n",
    "\n",
    "Make sure you have run all cells in your notebook in order before running the cell below, so that all images/graphs appear in the output. The cell below will generate a zip file for you to submit. **Please save before exporting!**\n",
    "\n",
    "After you have run the cell below and generated the zip file, you can open the PDF <a href='projB2.pdf' download>here</a>."
   ]
  },
  {
   "cell_type": "code",
   "execution_count": 64,
   "metadata": {
    "deletable": false,
    "editable": false
   },
   "outputs": [
    {
     "name": "stdout",
     "output_type": "stream",
     "text": [
      "Running your submission against local test cases...\n",
      "\n",
      "\n",
      "\n",
      "Your submission received the following results when run against available test cases:\n",
      "\n",
      "    q4a results: All test cases passed!\n",
      "\n",
      "    q4b results: All test cases passed!\n"
     ]
    },
    {
     "data": {
      "text/html": [
       "\n",
       "                    <p>\n",
       "                        Your submission has been exported. Click\n",
       "                        <a href=\"projB2_2023_12_01T04_17_06_190199.zip\" download=\"projB2_2023_12_01T04_17_06_190199.zip\" target=\"_blank\">here</a> to download\n",
       "                        the zip file.\n",
       "                    </p>\n",
       "                "
      ],
      "text/plain": [
       "<IPython.core.display.HTML object>"
      ]
     },
     "metadata": {},
     "output_type": "display_data"
    }
   ],
   "source": [
    "# Save your notebook first, then run this cell to export your submission.\n",
    "grader.export(run_tests=True)"
   ]
  },
  {
   "cell_type": "markdown",
   "metadata": {},
   "source": [
    " "
   ]
  }
 ],
 "metadata": {
  "kernelspec": {
   "display_name": "Python 3 (ipykernel)",
   "language": "python",
   "name": "python3"
  },
  "language_info": {
   "codemirror_mode": {
    "name": "ipython",
    "version": 3
   },
   "file_extension": ".py",
   "mimetype": "text/x-python",
   "name": "python",
   "nbconvert_exporter": "python",
   "pygments_lexer": "ipython3",
   "version": "3.11.0"
  },
  "otter": {
   "OK_FORMAT": true,
   "tests": {
    "q4a": {
     "name": "q4a",
     "points": 5,
     "suites": [
      {
       "cases": [
        {
         "code": ">>> assert \"sklearn.feature_extraction.text\" not in sys.modules.keys() # Check that no additional libraries are imported\n>>> training_accuracy >= 0.7 # threshold check\nTrue",
         "hidden": false,
         "locked": false,
         "points": 1.5
        },
        {
         "code": ">>> assert \"sklearn.feature_extraction.text\" not in sys.modules.keys() # Check that no additional libraries are imported\n>>> training_accuracy >= 0.8 # threshold check\nTrue",
         "hidden": false,
         "locked": false,
         "points": 1.5
        },
        {
         "code": ">>> assert \"sklearn.feature_extraction.text\" not in sys.modules.keys() # Check that no additional libraries are imported\n>>> training_accuracy >= 0.85 # threshold check\nTrue",
         "hidden": false,
         "locked": false,
         "points": 2
        }
       ],
       "scored": true,
       "setup": "",
       "teardown": "",
       "type": "doctest"
      }
     ]
    },
    "q4b": {
     "name": "q4b",
     "points": 0,
     "suites": [
      {
       "cases": [
        {
         "code": ">>> assert \"sklearn.feature_extraction.text\" not in sys.modules.keys() # Check that no additional libraries are imported\n>>> isinstance(test_predictions, np.ndarray) # must be ndarray of predictions\nTrue",
         "hidden": false,
         "locked": false
        },
        {
         "code": ">>> assert \"sklearn.feature_extraction.text\" not in sys.modules.keys() # Check that no additional libraries are imported\n>>> np.array_equal(np.unique(test_predictions), np.array([0, 1])) # Must be binary labels (0 or 1) and not probabilities\nTrue",
         "hidden": false,
         "locked": false
        },
        {
         "code": ">>> assert \"sklearn.feature_extraction.text\" not in sys.modules.keys() # Check that no additional libraries are imported\n>>> len(test_predictions) == 1000 # Must be the right number of predictions\nTrue",
         "hidden": false,
         "locked": false
        }
       ],
       "scored": true,
       "setup": "",
       "teardown": "",
       "type": "doctest"
      }
     ]
    }
   }
  }
 },
 "nbformat": 4,
 "nbformat_minor": 4
}
